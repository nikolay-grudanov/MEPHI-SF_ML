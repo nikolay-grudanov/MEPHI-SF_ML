{
  "cells": [
    {
      "cell_type": "markdown",
      "metadata": {
        "id": "azFuwISeFfxp"
      },
      "source": [
        "# Введение в PyTorch"
      ]
    },
    {
      "cell_type": "markdown",
      "metadata": {
        "id": "ftAAFt2DGM7j"
      },
      "source": [
        "## PyTorch\n",
        "\n"
      ]
    },
    {
      "cell_type": "markdown",
      "metadata": {
        "id": "LzSwimdBtplq"
      },
      "source": [
        "PyTorch — это один из самых популярных на сегодняшний день фреймворков для глубокого обучения. \"Популярный\" в том плане, что на сегодняшний день большая часть кода, связанная с нейросетями, пишется на PyTorch. Таким популярным этот фреймворк сделало то, что с PyTorch очень удобно работать. Как мы увидим далее, работа с PyTorch очень похожа на работу с Numpy. Также у PyTorch очень удобные и информативные [документация](https://pytorch.org/docs/stable/index.html) и [туториалы](https://pytorch.org/tutorials/)."
      ]
    },
    {
      "cell_type": "markdown",
      "metadata": {
        "id": "IoxXIOJ_y-Bj"
      },
      "source": [
        "Небольшой экскурс по фреймворкам для глубокого обучения:\n",
        "\n",
        "- **Caffee, Theano, Lasagne** — уже практически не используются;\n",
        "- **Tensorflow** — фреймворк от Google, который был популярен до 2017-2018 года перед появлением PyTorch. В то время большинство кода, связанного с нейросетями, писалась на нем. Однако он был довольно сложен, поэтому PyTorch быстро перехватил лидерство.\n",
        "\n",
        "    У Tensorflow есть также \"обертка\" Keras, которая позволяет более просто работать с нейросетями. Однако Keras менее гибок, чем PyTorch, поэтому не может полноценно его заменить.\n",
        "\n",
        "    Также в 2019 году вышел Tensorflow 2.0, в котором работа с нейросетями была сильно упрощена. Но к тому моменту рынок уже захватил PyTorch, поэтому Tensorflow 2.0 популярен так и не стал.\n",
        "\n",
        "- **PyTorch**;\n",
        "- **JAX** — новый фреймворк от Google, призванный заменить Tensorflow."
      ]
    },
    {
      "cell_type": "markdown",
      "metadata": {
        "id": "LGdclLrWtSgu"
      },
      "source": [
        "### torch.Tensor"
      ]
    },
    {
      "cell_type": "markdown",
      "metadata": {
        "id": "v6mkP98GtRwy"
      },
      "source": [
        "Базовой единицей фреймворка является структура, которая называется `torch.Tensor`. Tensor - это аналог `numpy.array`, многие методы работы с `torch.Tensor` в точности повторяют методы `numpy array`.\n",
        "\n",
        "Тензор — это тот тип данных, с которыми работают все нейросети в PyTorch. Матрицы весов слоев сети — это тензоры. Данные, которые мы подаем на вход сети тоже обязательно должны быть приведены к типу `torch.Tensor`. Ну и выход сети, разумеется, тоже будет иметь тип `torch.Tensor`.\n",
        "\n",
        "Импортируем библиотеку и рассмотрим типичные способы создания тензоров."
      ]
    },
    {
      "cell_type": "code",
      "execution_count": 1,
      "metadata": {
        "id": "YbDBnRrTFh3b"
      },
      "outputs": [
        {
          "ename": "ModuleNotFoundError",
          "evalue": "No module named 'torch'",
          "output_type": "error",
          "traceback": [
            "\u001b[31m---------------------------------------------------------------------------\u001b[39m",
            "\u001b[31mModuleNotFoundError\u001b[39m                       Traceback (most recent call last)",
            "\u001b[36mCell\u001b[39m\u001b[36m \u001b[39m\u001b[32mIn[1]\u001b[39m\u001b[32m, line 1\u001b[39m\n\u001b[32m----> \u001b[39m\u001b[32m1\u001b[39m \u001b[38;5;28;01mimport\u001b[39;00m\u001b[38;5;250m \u001b[39m\u001b[34;01mtorch\u001b[39;00m\n",
            "\u001b[31mModuleNotFoundError\u001b[39m: No module named 'torch'"
          ]
        }
      ],
      "source": [
        "import torch"
      ]
    },
    {
      "cell_type": "markdown",
      "metadata": {
        "id": "A6lqbkE5H9CK"
      },
      "source": [
        "1. Тензоры можно создавать из листов, массивов и других контейнеров Python."
      ]
    },
    {
      "cell_type": "code",
      "execution_count": null,
      "metadata": {
        "id": "973ZVmchH8ML"
      },
      "outputs": [],
      "source": [
        "x_list = [1., 2., 3.]\n",
        "x_tensor = torch.tensor(x_list)\n",
        "x_tensor"
      ]
    },
    {
      "cell_type": "markdown",
      "metadata": {
        "id": "4zPnifm2IS7F"
      },
      "source": [
        "2. Тензоры можно создавать при помощи инициализирующих функций, как в `numpy`."
      ]
    },
    {
      "cell_type": "code",
      "execution_count": null,
      "metadata": {
        "id": "Yt6Tr44DIM53"
      },
      "outputs": [],
      "source": [
        "# тензор из нулей заданного размера\n",
        "zeros_tensor = torch.zeros(2, 3)\n",
        "zeros_tensor"
      ]
    },
    {
      "cell_type": "code",
      "execution_count": null,
      "metadata": {
        "id": "G5NOC-HBId3g"
      },
      "outputs": [],
      "source": [
        "# тензор из единиц заданного размера\n",
        "ones_tensor = torch.ones(2, 3)\n",
        "ones_tensor"
      ]
    },
    {
      "cell_type": "code",
      "execution_count": null,
      "metadata": {
        "id": "lB9a8KUkIgp7"
      },
      "outputs": [],
      "source": [
        "# тензор — единичная матрица заданного размера\n",
        "eye_tensor = torch.eye(6)\n",
        "eye_tensor"
      ]
    },
    {
      "cell_type": "markdown",
      "metadata": {
        "id": "eB-jvN3O3mfs"
      },
      "source": [
        "3. Вообще практически все методы, которые есть у Numpy массивов, есть и у torch.Tensor. С тензорами также можно производить операции:"
      ]
    },
    {
      "cell_type": "code",
      "execution_count": null,
      "metadata": {
        "id": "sTDq_no03vTp"
      },
      "outputs": [],
      "source": [
        "x_tensor = torch.tensor([\n",
        "    [1, 2],\n",
        "    [3, 4]\n",
        "])\n",
        "\n",
        "y_tensor = torch.tensor([\n",
        "    [-10, 3],\n",
        "    [5, -4]\n",
        "])"
      ]
    },
    {
      "cell_type": "code",
      "execution_count": null,
      "metadata": {
        "id": "WiSNuc-_34GE"
      },
      "outputs": [],
      "source": [
        "x_tensor + y_tensor"
      ]
    },
    {
      "cell_type": "code",
      "execution_count": null,
      "metadata": {
        "id": "fvJwARmC352H"
      },
      "outputs": [],
      "source": [
        "# матричное умножение\n",
        "x_tensor @ y_tensor"
      ]
    },
    {
      "cell_type": "code",
      "execution_count": null,
      "metadata": {
        "id": "x6lOyvLj37lK"
      },
      "outputs": [],
      "source": [
        "# аналог np.concatenate([x_tensor, y_tensor], axis=1)\n",
        "torch.cat([x_tensor, y_tensor], dim=0)"
      ]
    },
    {
      "cell_type": "markdown",
      "metadata": {
        "id": "twv4BX7j4OQR"
      },
      "source": [
        "4. Тензоры можно переводить обратно в формат Numpy или питоновских значений"
      ]
    },
    {
      "cell_type": "code",
      "execution_count": null,
      "metadata": {
        "id": "RUvdkSzQ4R-L"
      },
      "outputs": [],
      "source": [
        "x_tensor = torch.tensor([\n",
        "    [1, 2],\n",
        "    [3, 4]\n",
        "])\n",
        "\n",
        "x_numpy = x_tensor.numpy()\n",
        "x_numpy"
      ]
    },
    {
      "cell_type": "code",
      "execution_count": null,
      "metadata": {
        "id": "nGBQji5yCKwt"
      },
      "outputs": [],
      "source": [
        "# многомерный тензор\n",
        "x_tensor = torch.tensor([\n",
        "    [1, 2],\n",
        "    [3, 4]\n",
        "])\n",
        "\n",
        "x_tensor.tolist()"
      ]
    },
    {
      "cell_type": "code",
      "execution_count": null,
      "metadata": {
        "id": "ZfD0Bc578rfE"
      },
      "outputs": [],
      "source": [
        "# одномерный тензор\n",
        "x_tensor = torch.tensor([3])\n",
        "\n",
        "x_tensor.item()"
      ]
    },
    {
      "cell_type": "markdown",
      "metadata": {
        "id": "vQa6nV13rKQy"
      },
      "source": [
        "## Нейронная сеть на Pytorch\n",
        "\n",
        "Давайте научимся создавать полносвязную нейросеть на Pytorch.\n",
        "\n",
        "Нейронные сети в Pytorch создаются по типу конструктора: есть набор стандартных блоков из которых мы можем собрать итоговую модель. Простейшие из этих блоков — линейные слои и функции активации.\n",
        "\n"
      ]
    },
    {
      "cell_type": "markdown",
      "metadata": {
        "id": "svebyz-e5y8H"
      },
      "source": [
        "![Screenshot 2023-09-26 at 21.25.00.png](data:image/png;base64,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)"
      ]
    },
    {
      "cell_type": "markdown",
      "metadata": {
        "id": "P6KF1kvI7qLj"
      },
      "source": [
        "Слой, представляющий из себя линейное преобразование задаётся при помощи класса `torch.nn.Linear`. Давайте создадим слой с 5 входными и 3 выходными нейронами."
      ]
    },
    {
      "cell_type": "code",
      "execution_count": null,
      "metadata": {
        "id": "goIuDHtLrDDG"
      },
      "outputs": [],
      "source": [
        "# модуль, в котором определены все классы слоев сетей и функций активации\n",
        "import torch.nn as nn\n",
        "\n",
        "n = 5\n",
        "m = 3\n",
        "# аргумент bias принимает значения True и False и определяет, будет ли в слое\n",
        "# применяться bias. Если bias=False, вектор байеса равен нулю\n",
        "linear_layer = nn.Linear(n, m, bias=True)"
      ]
    },
    {
      "cell_type": "code",
      "execution_count": null,
      "metadata": {
        "colab": {
          "base_uri": "https://localhost:8080/"
        },
        "id": "is24Z7cR75b1",
        "outputId": "6e2a9be0-13b4-42b1-9eac-c6e988648dd8"
      },
      "outputs": [
        {
          "data": {
            "text/plain": [
              "Linear(in_features=5, out_features=3, bias=True)"
            ]
          },
          "execution_count": 16,
          "metadata": {},
          "output_type": "execute_result"
        }
      ],
      "source": [
        "linear_layer"
      ]
    },
    {
      "cell_type": "markdown",
      "metadata": {
        "id": "Gr1zAkBBy22S"
      },
      "source": [
        "Далее — функция активации. Многие известные функции активации реализованы в модуле `nn` и продублированы в модуле `nn.functional`. Выберем какую-нибудь из них, например, гиперболический тангенс (tanh)."
      ]
    },
    {
      "cell_type": "code",
      "execution_count": null,
      "metadata": {
        "id": "4LDd0Xk9yxCl"
      },
      "outputs": [],
      "source": [
        "# Можно использовать такой вариант:\n",
        "\n",
        "# import torch.nn.functional as F\n",
        "# activation = F.tanh\n",
        "\n",
        "# или такой вариант:\n",
        "activation = nn.Tanh()"
      ]
    },
    {
      "cell_type": "code",
      "execution_count": null,
      "metadata": {
        "colab": {
          "base_uri": "https://localhost:8080/"
        },
        "id": "bRD-_R-28CDv",
        "outputId": "73269019-09fe-41d3-8d4b-2bc26ad54c9a"
      },
      "outputs": [
        {
          "data": {
            "text/plain": [
              "tensor([[0.7616, 0.9640],\n",
              "        [0.9951, 0.9993]])"
            ]
          },
          "execution_count": 21,
          "metadata": {},
          "output_type": "execute_result"
        }
      ],
      "source": [
        "x_tensor = torch.tensor([\n",
        "    [1, 2],\n",
        "    [3, 4]\n",
        "])\n",
        "activation(x_tensor)"
      ]
    },
    {
      "cell_type": "markdown",
      "metadata": {
        "id": "Pg5ep-gf0Zvv"
      },
      "source": [
        "Теперь проход некоторого тензора с данными через такой полносвязный слой будет задан при помощи последовательности команд:"
      ]
    },
    {
      "cell_type": "code",
      "execution_count": null,
      "metadata": {
        "colab": {
          "base_uri": "https://localhost:8080/"
        },
        "id": "NPbEMh2k0jwn",
        "outputId": "4324b34f-3e77-482c-d522-efc0d990d021"
      },
      "outputs": [
        {
          "data": {
            "text/plain": [
              "tensor([-0.1879, -0.4874,  0.0148], grad_fn=<TanhBackward0>)"
            ]
          },
          "execution_count": 22,
          "metadata": {},
          "output_type": "execute_result"
        }
      ],
      "source": [
        "random_input = torch.rand(5)\n",
        "\n",
        "x = linear_layer(random_input)\n",
        "output = activation(x)\n",
        "output"
      ]
    },
    {
      "cell_type": "markdown",
      "metadata": {
        "id": "UYxU6RyAfEiu"
      },
      "source": [
        "Обратим внимание на `grad_fn=<TanhBackward0>`. Такая приписка будет появляться на всех тензорах, которые являются обучающими параметрами в нейросети. Это значит, что для данного тензора в процессе обучения сети будет вычисляться градиент, с помощью которого значения тензора будут обновляться."
      ]
    },
    {
      "cell_type": "markdown",
      "metadata": {
        "id": "TtGmLa19pX1Z"
      },
      "source": [
        "Отлично, мы научились использовать отдельные слои из PyTorch. Давайте теперь на их основе соберем полносвязную нейросеть."
      ]
    },
    {
      "cell_type": "markdown",
      "metadata": {
        "id": "x4yNdDS-27rB"
      },
      "source": [
        "### Полносвязная нейросеть для бинарной классификации"
      ]
    },
    {
      "cell_type": "markdown",
      "metadata": {
        "id": "q4Ap0XRb27vz"
      },
      "source": [
        "Зададим датасет для бинарной классификации точек на плоскости:"
      ]
    },
    {
      "cell_type": "code",
      "execution_count": null,
      "metadata": {
        "id": "5uHkAnsjUSli"
      },
      "outputs": [],
      "source": [
        "import numpy as np\n",
        "from sklearn.datasets import make_blobs\n",
        "import matplotlib.pyplot as plt\n",
        "\n",
        "# генерируем 1200 точек, распределенных вокруг двух центров: (-2,0.5) и (3,-0.5)\n",
        "X, y = make_blobs(n_samples=1200, centers=[[-2,0.5],[3,-0.5]], cluster_std=1, random_state=42)\n",
        "\n",
        "# отрисовываем точки на плоскости, покрасив их в два цвета в зависимости от класса\n",
        "colors = (\"red\", \"green\")\n",
        "colored_y = np.zeros(y.size, dtype=str)\n",
        "\n",
        "for i, cl in enumerate([0,1]):\n",
        "    colored_y[y.ravel() == cl] = str(colors[i])\n",
        "\n",
        "plt.figure(figsize=(10,7))\n",
        "plt.scatter(X[:, 0], X[:, 1], c=colored_y)\n",
        "plt.show()"
      ]
    },
    {
      "cell_type": "code",
      "execution_count": null,
      "metadata": {
        "id": "6QmdgJCeU7Mu"
      },
      "outputs": [],
      "source": [
        "from sklearn.model_selection import train_test_split\n",
        "\n",
        "X_train, X_test, y_train, y_test = train_test_split(X, y, test_size=200)"
      ]
    },
    {
      "cell_type": "code",
      "execution_count": null,
      "metadata": {
        "colab": {
          "base_uri": "https://localhost:8080/"
        },
        "id": "UMnR0xu6DYBS",
        "outputId": "aed1b28e-4fdb-4f73-ef5e-c7d1e216fe2d"
      },
      "outputs": [
        {
          "data": {
            "text/plain": [
              "array([[-2.5176113 ,  0.72378795],\n",
              "       [ 3.12320481,  0.05148538],\n",
              "       [-1.65727465,  0.95675322],\n",
              "       ...,\n",
              "       [ 1.59368254, -0.58310557],\n",
              "       [ 3.31917451,  0.84045045],\n",
              "       [-2.98572605,  1.00404652]])"
            ]
          },
          "execution_count": 25,
          "metadata": {},
          "output_type": "execute_result"
        }
      ],
      "source": [
        "X_train"
      ]
    },
    {
      "cell_type": "code",
      "execution_count": null,
      "metadata": {
        "id": "wXfTRMrCDcGe"
      },
      "outputs": [],
      "source": [
        "y_train"
      ]
    },
    {
      "cell_type": "markdown",
      "metadata": {
        "id": "J4QvBMDH3p3k"
      },
      "source": [
        "Давайте зададим нейронную сеть с двумя слоями. Пусть в скрытых слоях будет пять нейронов. В качестве функции активации выберем сигмоиду."
      ]
    },
    {
      "cell_type": "markdown",
      "metadata": {
        "id": "x6OurldLp7Zs"
      },
      "source": [
        "Нейросеть задается в виде класса, который наследуется от абстрактного класса Module. Для задания нейросети достаточно определить у класса методы `__init__ `и `__forward__`. В методе `__init__ ` обычно прописываются слои и артибуты сети, а в `__forward__` — то, как нейросеть будет обрабатывать данные, поданные ей на вход."
      ]
    },
    {
      "cell_type": "code",
      "execution_count": null,
      "metadata": {
        "id": "6U4OveWe3dy6"
      },
      "outputs": [],
      "source": [
        "import torch.nn as nn\n",
        "\n",
        "class Net(nn.Module):\n",
        "    def __init__(self):\n",
        "        super(Net, self).__init__()\n",
        "\n",
        "        self.fc1 = nn.Linear(2, 2)\n",
        "        self.act1 = nn.Sigmoid() # можно заменить на nn.Tanh / nn.ReLU / ...\n",
        "\n",
        "        self.fc2 = nn.Linear(2, 1)\n",
        "        self.act2 = nn.Sigmoid()\n",
        "\n",
        "\n",
        "    def forward(self, x):\n",
        "        \"\"\"\n",
        "        params:\n",
        "            x (torch.Tensor): данные, поданные на вход сети\n",
        "        \"\"\"\n",
        "\n",
        "        x = self.fc1(x)\n",
        "        x = self.act1(x)\n",
        "\n",
        "        x = self.fc2(x)\n",
        "        x = self.act2(x)\n",
        "        return x"
      ]
    },
    {
      "cell_type": "markdown",
      "metadata": {
        "id": "JNOPFozsqld9"
      },
      "source": [
        "Заведем нейросеть:"
      ]
    },
    {
      "cell_type": "code",
      "execution_count": null,
      "metadata": {
        "id": "bSDq_V6cvnFb"
      },
      "outputs": [],
      "source": [
        "model = Net()"
      ]
    },
    {
      "cell_type": "markdown",
      "metadata": {
        "id": "ijn4W-TX55ue"
      },
      "source": [
        "Посмотрим, что умеет наша необученная нейросеть. Получим ее ответы на тестовой выборке и визуализируем, к какому классу наша нейросеть отнесла какие точки тестовой выборки."
      ]
    },
    {
      "cell_type": "code",
      "execution_count": null,
      "metadata": {
        "id": "5-gEkHbej6RW"
      },
      "outputs": [],
      "source": [
        "nn_prediction = model(torch.FloatTensor(X_test))\n",
        "\n",
        "nn_prediction = nn_prediction.tolist()"
      ]
    },
    {
      "cell_type": "code",
      "execution_count": null,
      "metadata": {
        "id": "hkuy4hpzFSTz"
      },
      "outputs": [],
      "source": [
        "nn_prediction"
      ]
    },
    {
      "cell_type": "markdown",
      "metadata": {
        "id": "aq7K743aqvnB"
      },
      "source": [
        "Переведем предсказания сети из вероятностей в формат нулей и единиц:"
      ]
    },
    {
      "cell_type": "code",
      "execution_count": null,
      "metadata": {
        "id": "7Eo5nfN_V42z"
      },
      "outputs": [],
      "source": [
        "nn_prediction = np.array([int(x[0] > 0.5) for x in nn_prediction])"
      ]
    },
    {
      "cell_type": "code",
      "execution_count": null,
      "metadata": {
        "id": "UQelx9d4FwT1"
      },
      "outputs": [],
      "source": [
        "nn_prediction"
      ]
    },
    {
      "cell_type": "markdown",
      "metadata": {
        "id": "Fy7ye7MTq0Iv"
      },
      "source": [
        "Визуализируем точки тестовой выборки и покрасим их в цвета в зависимости от того, к какому классу сеть отнесла эти точки:"
      ]
    },
    {
      "cell_type": "code",
      "execution_count": null,
      "metadata": {
        "id": "DvR7Vccw545S"
      },
      "outputs": [],
      "source": [
        "colors = (\"red\", \"green\")\n",
        "colored_y = np.zeros(len(nn_prediction), dtype=str)\n",
        "\n",
        "for i, cl in enumerate([0,1]):\n",
        "    colored_y[nn_prediction.ravel() == cl] = str(colors[i])\n",
        "\n",
        "plt.figure(figsize=(10,7))\n",
        "plt.scatter(X_test[:, 0], X_test[:, 1], c=colored_y)\n",
        "plt.show()"
      ]
    },
    {
      "cell_type": "markdown",
      "metadata": {
        "id": "Qnk1Jd558FM0"
      },
      "source": [
        "Полученный результат ожидаем, поскольку наша нейронная сеть не обучена. Давайте обучим её.\n"
      ]
    },
    {
      "cell_type": "markdown",
      "metadata": {
        "id": "oc45jZzGA39U"
      },
      "source": [
        "### Обучение нейронной сети в Pytorch\n",
        "\n",
        "В одном из прошлых знаятий для обучения самописной логрегрессии нам нужно было реализовывать внутри класса логрегрессии методы для вычисления градиента лосс-функции по весам модели и обновления весов этой модели.\n",
        "\n",
        "При написании класса сети в PyTorch нам ну нужно самостоятельно реализовывать вычисление производных и код обновления весов. Внутри PyTorch алгоритм вычисления частных производных лосс-функции по весам сети реализован с помощью модуля [autograd](https://pytorch.org/tutorials/beginner/blitz/autograd_tutorial.html). На основе строения функции сети, заданной в forward, autograd понимает, как выглядит граф вычислений сети, и при вызове метода backward у последнего элемента графа (лосс-функции), проходит по графу в обратном направлении, вычисляя все градиенты.\n",
        "\n",
        "Более подробно про то, как autograd вычисляет градиенты весов сети, вы найдете в дополнительных материалах к этому модулю."
      ]
    },
    {
      "cell_type": "markdown",
      "metadata": {
        "id": "ueQEZtI0iBy2"
      },
      "source": [
        "А мы перейдем к написанию функции `train` для обучения нашей нейронной сети.\n",
        "\n",
        "**В обучении сети участвуют следующие сущности:**\n",
        "- сама нейросеть\n",
        "- лосс-функция\n",
        "- оптимизатор (optimizer)\n",
        "\n",
        "**Что такое оптимизатор:**\n",
        "\n",
        "Оптимизатор — это сущность, которая отвечает за обновление параметров сети на основе их текущих значений и значений их производных. То есть, в алгоритме стохастического спуска оптимизатор отвечает за строчку, обведенную красным:"
      ]
    },
    {
      "cell_type": "markdown",
      "metadata": {
        "id": "z5P7pC9_yXh1"
      },
      "source": [
        "![Screenshot 2024-01-07 at 21.10.47.png](data:image/png;base64,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)"
      ]
    },
    {
      "cell_type": "markdown",
      "metadata": {
        "id": "XAVPveavozVS"
      },
      "source": [
        "При вызове метода .backward() лосс-функции для всех весов сети вычисляются производные. После этого оптимизатор обновляет все веса сети с помощью этих вычисленных производных.\n",
        "\n",
        "Тут может возникнуть вопрос: зачем нужна отдельная сущность \"оптимизатор\" для такой простой операции обновления весов? Казалось бы, всего-то нужно для каждого параметра сети отнять от его старого значения значение его производной, умноженной на learning rate. Почему бы не делать это сразу во время backward, во время того, как autograd вычисляет производные?\n",
        "\n",
        "Ответ тут такой: существуют разные алгоритмы обновления весов сети, т.е. разные алгоритмы оптимизации весов. Стохастический градиентный спуск — это базовый, самый простой вариант. К нему можно добавить некоторые трюки, которые сделают обучение сети еще эффективнее. И чтобы можно было обучать одну и ту же сеть с помощью разных алгоритмов оптимизации, за алгоритм оптимизации отвечает отдельная сущность — optimizer.\n"
      ]
    },
    {
      "cell_type": "markdown",
      "metadata": {
        "id": "Fx7jCoC-tuOX"
      },
      "source": [
        "Итак, теперь мы готовы реализовать функцию обучения сети. Реализуем для начала обычный градиентный спуск:"
      ]
    },
    {
      "cell_type": "code",
      "execution_count": null,
      "metadata": {
        "id": "zGL6RiJS6o2Y"
      },
      "outputs": [],
      "source": [
        "import tqdm\n",
        "from tqdm.auto import tqdm\n",
        "\n",
        "def train(model, X, y, criterion, optimizer, num_epoch):\n",
        "    '''\n",
        "    args:\n",
        "        model - модель нейронной сети\n",
        "        X и y - обучающая выборка\n",
        "        criterion - функция потерь, взятая из модуля `torch.nn`\n",
        "        optimizer - оптимизатор, взятый из модуля `torch.optim`\n",
        "        num_epoch - количество эпох обучения.\n",
        "    '''\n",
        "    # цикл по количеству эпох обучения\n",
        "    for t in tqdm(range(num_epoch)):\n",
        "        # Вычислим предсказания нашей модели\n",
        "        y_pred = model(X)\n",
        "\n",
        "        # Посчитаем значение функции потерь  на полученном предсказании\n",
        "        loss = criterion(y_pred, y)\n",
        "\n",
        "        # Выполним подсчёт новых градиентов\n",
        "        loss.backward()\n",
        "        # Выполним шаг градиентного спуска\n",
        "        optimizer.step()\n",
        "        # Обнулим сохраненные у оптимизатора значения градиентов\n",
        "        # перед следующим шагом обучения\n",
        "        optimizer.zero_grad()\n",
        "\n",
        "    return model"
      ]
    },
    {
      "cell_type": "markdown",
      "metadata": {
        "id": "b9h8LqrwGFTY"
      },
      "source": [
        "Снова объявим нашу сеть:"
      ]
    },
    {
      "cell_type": "code",
      "execution_count": null,
      "metadata": {
        "id": "i8qJiNJdFSpi"
      },
      "outputs": [],
      "source": [
        "model = Net()"
      ]
    },
    {
      "cell_type": "markdown",
      "metadata": {
        "id": "PGRB64_6GHEy"
      },
      "source": [
        "Объявим лосс-функцию и оптимизатор, и обучим сеть на 30 эпохах:"
      ]
    },
    {
      "cell_type": "code",
      "execution_count": null,
      "metadata": {
        "id": "x7rZ3oc6DD76"
      },
      "outputs": [],
      "source": [
        "# лосс-функция — бинарная кросс-энтропия (aka LogLoss)\n",
        "criterion = torch.nn.BCELoss()\n",
        "# оптимизатор — SGD (Stochastic Gradient Descent)\n",
        "optimizer = torch.optim.SGD(model.parameters(), lr=1e-3)\n",
        "# optimizer = torch.optim.Adam(model.parameters(), lr=1e-3)"
      ]
    },
    {
      "cell_type": "code",
      "execution_count": null,
      "metadata": {
        "colab": {
          "base_uri": "https://localhost:8080/",
          "height": 49,
          "referenced_widgets": [
            "d99b7ba8110847ef90d7606026c4160f",
            "c4dc8afdce024c85871d80f27354ec09",
            "1aebea7312a34f81827ec71fcb06b17d",
            "95bb450c39cc44f4829bce8fff8047d0",
            "8a9e47d0304b440d84fea4de4a68d8a6",
            "d10b0d45cdb64550b918e7d7f02e482e",
            "156ac5296f7a4756b41a5081a472e96e",
            "a1ef9f4fe67349ccb3a5ad4e3b1f8619",
            "dd03346e4a694dc39a7a9141401f8664",
            "31b4fcc814ed4321a6122066d9e7f30b",
            "84e6a85974d34432a905cd399e253d72"
          ]
        },
        "id": "4CsV0t21v86s",
        "outputId": "c57908f2-d42e-4c28-e41e-47bc24ca9365"
      },
      "outputs": [
        {
          "data": {
            "application/vnd.jupyter.widget-view+json": {
              "model_id": "d99b7ba8110847ef90d7606026c4160f",
              "version_major": 2,
              "version_minor": 0
            },
            "text/plain": [
              "  0%|          | 0/150 [00:00<?, ?it/s]"
            ]
          },
          "metadata": {},
          "output_type": "display_data"
        }
      ],
      "source": [
        "X_train = torch.FloatTensor(X_train)\n",
        "y_train = torch.FloatTensor(y_train).view(-1, 1) # size [1000] -> [1000, 1]\n",
        "\n",
        "model = train(model, X_train, y_train, criterion, optimizer, 150)"
      ]
    },
    {
      "cell_type": "markdown",
      "metadata": {
        "id": "C9qQm8m6DmAc"
      },
      "source": [
        "Посмотрим теперь, каков будет результат."
      ]
    },
    {
      "cell_type": "code",
      "execution_count": null,
      "metadata": {
        "id": "sUT7MDujwom5"
      },
      "outputs": [],
      "source": [
        "with torch.no_grad():\n",
        "    nn_prediction = model(torch.FloatTensor(X_test))\n",
        "    nn_prediction = nn_prediction.tolist()\n",
        "\n",
        "nn_prediction = np.array([int(x[0] > 0.5) for x in nn_prediction])"
      ]
    },
    {
      "cell_type": "code",
      "execution_count": null,
      "metadata": {
        "id": "DrI3l3tiwuga"
      },
      "outputs": [],
      "source": [
        "colors = (\"red\", \"green\")\n",
        "colored_y = np.zeros(len(nn_prediction), dtype=str)\n",
        "\n",
        "for i, cl in enumerate([0,1]):\n",
        "    colored_y[nn_prediction.ravel() == cl] = str(colors[i])\n",
        "\n",
        "plt.figure(figsize=(10,7))\n",
        "plt.scatter(X_test[:, 0], X_test[:, 1], c=colored_y)\n",
        "plt.show()"
      ]
    },
    {
      "cell_type": "markdown",
      "metadata": {
        "id": "xTKZZe65gynY"
      },
      "source": [
        "Покрасим все точки плоскости в цвета в зависимости от того, в какой класс наша сеть отнесла бы эти точки. Так мы лучше увидим разделяющую поверхность:"
      ]
    },
    {
      "cell_type": "code",
      "execution_count": null,
      "metadata": {
        "id": "402FHOQ7xQEL"
      },
      "outputs": [],
      "source": [
        "from matplotlib.colors import ListedColormap\n",
        "\n",
        "plt.figure(figsize=(15,8))\n",
        "\n",
        "eps = 0.1\n",
        "xx, yy = np.meshgrid(np.linspace(np.min(X_test[:,0]) - eps, np.max(X_test[:,0]) + eps, 200),\n",
        "                     np.linspace(np.min(X_test[:,1]) - eps, np.max(X_test[:,1]) + eps, 200))\n",
        "Z = model(torch.FloatTensor(np.c_[xx.ravel(), yy.ravel()]))\n",
        "Z = Z.reshape(xx.shape).detach().numpy()\n",
        "Z = (Z>0.5).astype(int)\n",
        "cmap_light = ListedColormap(['#FFAAAA', '#AAFFAA'])\n",
        "plt.pcolormesh(xx, yy, Z, cmap=cmap_light)\n",
        "\n",
        "colored_y = np.zeros(y_test.size, dtype=str)\n",
        "for i, cl in enumerate([0,1]):\n",
        "    colored_y[y_test.ravel() == cl] = str(colors[i])\n",
        "\n",
        "plt.scatter(X_test[:, 0], X_test[:, 1], c=colored_y);"
      ]
    },
    {
      "cell_type": "markdown",
      "metadata": {
        "id": "aZ39IV51xoVJ"
      },
      "source": [
        "### Dataloader и обучение по мини-батчам"
      ]
    },
    {
      "cell_type": "markdown",
      "metadata": {
        "id": "jSFnX5dZg8Qi"
      },
      "source": [
        "В домашнем задании по логрегрессии мы сами писали функцию generate_batches, которая выполняла функционал разделения данных на мини-батчи для подачи в сеть. В PyTorch нам такого самим писать не нужно, тут уже есть специальный класс Dataloader. Давайте заведем даталоадеры для тренировочных и тестовых данных.\n",
        "\n",
        "Даталоадер принимает на вход данные в виде массива пар [($x_1$, $y_1$), ..., ($x_i$, $y_i$), ...]"
      ]
    },
    {
      "cell_type": "code",
      "execution_count": null,
      "metadata": {
        "id": "P6eLV9BW0FPa"
      },
      "outputs": [],
      "source": [
        "train_loader = torch.utils.data.DataLoader(list(zip(X_train, y_train)), batch_size=64, shuffle=True)\n",
        "test_loader = torch.utils.data.DataLoader(list(zip(X_test, y_test)), batch_size=64, shuffle=False)"
      ]
    },
    {
      "cell_type": "markdown",
      "metadata": {
        "id": "jffgwgpphl1t"
      },
      "source": [
        "Здесь:\n",
        "- batch_size — размер батча, на которые даталоадер будет делить данные перед каждой эпохой;\n",
        "- shuffle — если True, то перед каждой эпохой и делением на батчи данные будут перемешаны. Shuffle обычно ставится True для обучающих данных, и False для тестовых."
      ]
    },
    {
      "cell_type": "markdown",
      "metadata": {
        "id": "uonUMOpniKRP"
      },
      "source": [
        "Нам нужно также немного изменить функцию обучения сети, чтобы реализовать обучение по мини-батчам:"
      ]
    },
    {
      "cell_type": "code",
      "execution_count": null,
      "metadata": {
        "id": "TXYQL8lI0iUu"
      },
      "outputs": [],
      "source": [
        "import tqdm\n",
        "from tqdm.auto import tqdm\n",
        "\n",
        "def train_stochastic(model, loader, criterion, optimizer, num_epoch):\n",
        "    '''\n",
        "    args:\n",
        "        model - модель нейронной сети\n",
        "        X и y - обучающая выборка\n",
        "        criterion - функция потерь, взятая из модуля `torch.nn`\n",
        "        optimizer - оптимизатор, взятый из модуля `torch.optim`\n",
        "        num_epoch - количество эпох обучения.\n",
        "    '''\n",
        "    # цикл по количеству эпох обучения\n",
        "    for t in tqdm(range(num_epoch)):\n",
        "        epoch_loss = []\n",
        "\n",
        "        # цикл по батчам даталоадера\n",
        "        for X_batch, y_batch in loader:\n",
        "            # Вычислим предсказания нашей модели\n",
        "            y_pred = model(X_batch)\n",
        "\n",
        "            # Посчитаем значение функции потерь  на полученном предсказании\n",
        "            loss = criterion(y_pred, y_batch)\n",
        "            epoch_loss.append(loss.item())\n",
        "\n",
        "            # Выполним подсчёт новых градиентов\n",
        "            loss.backward()\n",
        "            # Выполним шаг градиентного спуска\n",
        "            optimizer.step()\n",
        "            # Обнулим сохраненные у оптимизатора значения градиентов\n",
        "            # перед следующим шагом обучения\n",
        "            optimizer.zero_grad()\n",
        "\n",
        "        print(\"curr_loss\", np.mean(epoch_loss))\n",
        "\n",
        "    return model"
      ]
    },
    {
      "cell_type": "markdown",
      "metadata": {
        "id": "IjBIR8gzjDO7"
      },
      "source": [
        "Снова заведем сеть, лосс-функцию, оптимизатор, и начнем обучение:"
      ]
    },
    {
      "cell_type": "code",
      "execution_count": null,
      "metadata": {
        "id": "sGRXKaSx0sY-"
      },
      "outputs": [],
      "source": [
        "model = Net()\n",
        "\n",
        "# лосс-функция — бинарная кросс-энтропия (aka LogLoss)\n",
        "criterion = torch.nn.BCELoss()\n",
        "# оптимизатор — SGD (Stochastic Gradient Descent)\n",
        "optimizer = torch.optim.SGD(model.parameters(), lr=1e-3)\n",
        "# optimizer = torch.optim.Adam(NN.parameters(), lr=1e-4)"
      ]
    },
    {
      "cell_type": "code",
      "execution_count": null,
      "metadata": {
        "id": "ZS05Kxjd0zYA"
      },
      "outputs": [],
      "source": [
        "model = train_stochastic(model, train_loader, criterion, optimizer, 350)"
      ]
    },
    {
      "cell_type": "markdown",
      "metadata": {
        "id": "AkQq9pV9jH45"
      },
      "source": [
        "Посмотрим, как теперь наша модель делит плоскость на части по классам:"
      ]
    },
    {
      "cell_type": "code",
      "execution_count": null,
      "metadata": {
        "id": "AptmliaF1CYm"
      },
      "outputs": [],
      "source": [
        "from matplotlib.colors import ListedColormap\n",
        "\n",
        "plt.figure(figsize=(15,8))\n",
        "\n",
        "eps = 0.1\n",
        "xx, yy = np.meshgrid(np.linspace(np.min(X_test[:,0]) - eps, np.max(X_test[:,0]) + eps, 200),\n",
        "                     np.linspace(np.min(X_test[:,1]) - eps, np.max(X_test[:,1]) + eps, 200))\n",
        "\n",
        "Z = model(torch.FloatTensor(np.c_[xx.ravel(), yy.ravel()]))\n",
        "\n",
        "Z = Z.reshape(xx.shape).detach().numpy()\n",
        "Z = (Z>0.5).astype(int)\n",
        "cmap_light = ListedColormap(['#FFAAAA', '#AAFFAA'])\n",
        "plt.pcolormesh(xx, yy, Z, cmap=cmap_light)\n",
        "\n",
        "colored_y = np.zeros(y_test.size, dtype=str)\n",
        "for i, cl in enumerate([0,1]):\n",
        "    colored_y[y_test.ravel() == cl] = str(colors[i])\n",
        "\n",
        "plt.scatter(X_test[:, 0], X_test[:, 1], c=colored_y);"
      ]
    },
    {
      "cell_type": "markdown",
      "metadata": {
        "id": "u8N2lGGqFS95"
      },
      "source": [
        "## nn.Sequential"
      ]
    },
    {
      "cell_type": "markdown",
      "metadata": {
        "id": "ZZepudnXGRmm"
      },
      "source": [
        "Давайте еще раз посмотрим на то, как мы задавали нашу нейросеть:"
      ]
    },
    {
      "cell_type": "code",
      "execution_count": null,
      "metadata": {
        "id": "cRpkYvy4GUPd"
      },
      "outputs": [],
      "source": [
        "import torch.nn as nn\n",
        "\n",
        "class Net(nn.Module):\n",
        "    def __init__(self):\n",
        "        super(Net, self).__init__()\n",
        "\n",
        "        self.fc1 = nn.Linear(2, 2)\n",
        "        self.act1 = nn.Sigmoid()\n",
        "\n",
        "        self.fc2 = nn.Linear(2, 1)\n",
        "        self.act2 = nn.Sigmoid()\n",
        "\n",
        "\n",
        "    def forward(self, x):\n",
        "\n",
        "        x = self.fc1(x)\n",
        "        x = self.act1(x)\n",
        "\n",
        "        x = self.fc2(x)\n",
        "        x = self.act2(x)\n",
        "        return x"
      ]
    },
    {
      "cell_type": "markdown",
      "metadata": {
        "id": "XqTBYx_Q2COe"
      },
      "source": [
        "В PyTorch есть еще один способ задания структуры нейросети, через nn.Sequential. Выглядит это так:"
      ]
    },
    {
      "cell_type": "code",
      "execution_count": null,
      "metadata": {
        "id": "ZRc-mW4H2Sgo"
      },
      "outputs": [],
      "source": [
        "model = nn.Sequential(\n",
        "                   nn.Linear(2, 2, bias=True),\n",
        "                   nn.Sigmoid(),\n",
        "                   nn.Linear(2, 1, bias=True),\n",
        "                   nn.Sigmoid()\n",
        "                   )"
      ]
    },
    {
      "cell_type": "markdown",
      "metadata": {
        "id": "sfGSKvaC2gX4"
      },
      "source": [
        "Теперь с переменной model можно обращаться точно так же, как мы делали это выше. Эту сеть можно обучить и получать ответы на тестовых данных.\n",
        "\n"
      ]
    },
    {
      "cell_type": "markdown",
      "metadata": {
        "id": "-1WTSTxX2upP"
      },
      "source": [
        "Этот способ создания сети выглядит проще (не нужно писать никакой класс и никакой forward), но он менее гибок. Дело в том, что, используя nn.Sequential, мы задаем только слои сети, и выполняться они будут при вызове сети ровно в том порядке, в котором мы их задали. Отсюда и название структуры Sequential — \"последовательный\". В случае же описания сети в виде класса мы могли в forward определять вид прохождения входа по сети сами. Например, могли бы сделать такую нейросеть:"
      ]
    },
    {
      "cell_type": "code",
      "execution_count": null,
      "metadata": {
        "id": "JFIXvH2cgPLi"
      },
      "outputs": [],
      "source": [
        "import torch.nn as nn\n",
        "\n",
        "class Net(nn.Module):\n",
        "    def __init__(self):\n",
        "        super(Net, self).__init__()\n",
        "\n",
        "        self.fc11 = nn.Linear(2, 2)\n",
        "        self.act11 = nn.Sigmoid()\n",
        "\n",
        "        self.fc12 = nn.Linear(2, 2)\n",
        "        self.act12 = nn.Sigmoid()\n",
        "\n",
        "        self.fc2 = nn.Linear(4, 1)\n",
        "        self.act2 = nn.Sigmoid()\n",
        "\n",
        "\n",
        "    def forward(self, x1, x2):\n",
        "\n",
        "        x1 = self.fc11(x1)\n",
        "        x1 = self.act11(x1)\n",
        "\n",
        "        x2 = self.fc12(x2)\n",
        "        x2 = self.act12(x2)\n",
        "\n",
        "        x = torch.cat([x1, x2], dim=1)\n",
        "\n",
        "        x = self.fc2(x)\n",
        "        x = self.act2(x)\n",
        "        return x"
      ]
    },
    {
      "cell_type": "markdown",
      "metadata": {
        "id": "GvMAaKhtk0rQ"
      },
      "source": [
        "Или можно даже делать так:"
      ]
    },
    {
      "cell_type": "code",
      "execution_count": null,
      "metadata": {
        "id": "AFxRi7Lik7C_"
      },
      "outputs": [],
      "source": [
        "import torch.nn as nn\n",
        "\n",
        "class Net(nn.Module):\n",
        "    def __init__(self):\n",
        "        super(Net, self).__init__()\n",
        "\n",
        "        self.fc11 = nn.Linear(2, 2)\n",
        "        self.act11 = nn.Sigmoid()\n",
        "\n",
        "        self.fc12 = nn.Linear(2, 2)\n",
        "        self.act12 = nn.Sigmoid()\n",
        "\n",
        "        self.fc2 = nn.Linear(2, 1)\n",
        "        self.act2 = nn.Sigmoid()\n",
        "\n",
        "\n",
        "    def forward(self, x, mode='left'):\n",
        "\n",
        "        if mode == 'left':\n",
        "            x = self.fc11(x)\n",
        "            x = self.act11(x)\n",
        "\n",
        "        elif mode == 'right':\n",
        "            x = self.fc12(x2)\n",
        "            x = self.act12(x2)\n",
        "\n",
        "        x = self.fc2(x)\n",
        "        x = self.act2(x)\n",
        "        return x"
      ]
    },
    {
      "cell_type": "markdown",
      "metadata": {
        "id": "jWlSjwEzlMX1"
      },
      "source": [
        "Таким образом, при задании сети в виде класса у нас ест бОльшая гибкость в определении того, как сеть будет обрабатывать входные данные на каждой новой итерации.\n",
        "\n",
        "\n",
        "Но, несмотря на это, nn.Sequential все-таки используется при создании сетей. Он часто используется внутри метода __init__, чтобы сгруппировать несколько слоев сети в блок. Например, вот так:"
      ]
    },
    {
      "cell_type": "code",
      "execution_count": null,
      "metadata": {
        "id": "fVIl1UfXl07X"
      },
      "outputs": [],
      "source": [
        "import torch.nn as nn\n",
        "\n",
        "class Net(nn.Module):\n",
        "    def __init__(self):\n",
        "        super(Net, self).__init__()\n",
        "\n",
        "        self.left_block = nn.Sequential(\n",
        "            nn.Linear(2, 2),\n",
        "            nn.Sigmoid()\n",
        "        )\n",
        "\n",
        "        self.right_block = nn.Sequential(\n",
        "            nn.Linear(2, 2),\n",
        "            nn.Sigmoid()\n",
        "        )\n",
        "\n",
        "        self.bottom_block = nn.Sequential(\n",
        "            nn.Linear(2, 2),\n",
        "            nn.Sigmoid()\n",
        "        )\n",
        "\n",
        "\n",
        "    def forward(self, x, mode='left'):\n",
        "\n",
        "        if mode == 'left':\n",
        "            x = self.left_block(x)\n",
        "\n",
        "        elif mode == 'right':\n",
        "            x = self.right_block(x)\n",
        "\n",
        "        x = self.bottom_block(x)\n",
        "        return x"
      ]
    },
    {
      "cell_type": "markdown",
      "metadata": {
        "id": "0uLfJix3mNCK"
      },
      "source": [
        "Это становится особенно удобно при написании глубоких сетей, у которых много слоев."
      ]
    },
    {
      "cell_type": "markdown",
      "metadata": {
        "id": "C3ecA_gazmVe"
      },
      "source": [
        "## Полезные ссылки"
      ]
    },
    {
      "cell_type": "markdown",
      "metadata": {
        "id": "0HvjN7pSzoRb"
      },
      "source": [
        "- [Datasets & Dataloaders](https://pytorch.org/tutorials/beginner/basics/data_tutorial.html) (PyTorch docs)\n",
        "- [Torch.autograd](https://pytorch.org/tutorials/beginner/blitz/autograd_tutorial.html) (PyTorch docs)"
      ]
    }
  ],
  "metadata": {
    "accelerator": "GPU",
    "colab": {
      "gpuType": "V100",
      "machine_shape": "hm",
      "provenance": []
    },
    "kernelspec": {
      "display_name": "ml",
      "language": "python",
      "name": "python3"
    },
    "language_info": {
      "codemirror_mode": {
        "name": "ipython",
        "version": 3
      },
      "file_extension": ".py",
      "mimetype": "text/x-python",
      "name": "python",
      "nbconvert_exporter": "python",
      "pygments_lexer": "ipython3",
      "version": "3.12.7"
    },
    "widgets": {
      "application/vnd.jupyter.widget-state+json": {
        "156ac5296f7a4756b41a5081a472e96e": {
          "model_module": "@jupyter-widgets/controls",
          "model_module_version": "1.5.0",
          "model_name": "DescriptionStyleModel",
          "state": {
            "_model_module": "@jupyter-widgets/controls",
            "_model_module_version": "1.5.0",
            "_model_name": "DescriptionStyleModel",
            "_view_count": null,
            "_view_module": "@jupyter-widgets/base",
            "_view_module_version": "1.2.0",
            "_view_name": "StyleView",
            "description_width": ""
          }
        },
        "1aebea7312a34f81827ec71fcb06b17d": {
          "model_module": "@jupyter-widgets/controls",
          "model_module_version": "1.5.0",
          "model_name": "FloatProgressModel",
          "state": {
            "_dom_classes": [],
            "_model_module": "@jupyter-widgets/controls",
            "_model_module_version": "1.5.0",
            "_model_name": "FloatProgressModel",
            "_view_count": null,
            "_view_module": "@jupyter-widgets/controls",
            "_view_module_version": "1.5.0",
            "_view_name": "ProgressView",
            "bar_style": "success",
            "description": "",
            "description_tooltip": null,
            "layout": "IPY_MODEL_a1ef9f4fe67349ccb3a5ad4e3b1f8619",
            "max": 150,
            "min": 0,
            "orientation": "horizontal",
            "style": "IPY_MODEL_dd03346e4a694dc39a7a9141401f8664",
            "value": 150
          }
        },
        "31b4fcc814ed4321a6122066d9e7f30b": {
          "model_module": "@jupyter-widgets/base",
          "model_module_version": "1.2.0",
          "model_name": "LayoutModel",
          "state": {
            "_model_module": "@jupyter-widgets/base",
            "_model_module_version": "1.2.0",
            "_model_name": "LayoutModel",
            "_view_count": null,
            "_view_module": "@jupyter-widgets/base",
            "_view_module_version": "1.2.0",
            "_view_name": "LayoutView",
            "align_content": null,
            "align_items": null,
            "align_self": null,
            "border": null,
            "bottom": null,
            "display": null,
            "flex": null,
            "flex_flow": null,
            "grid_area": null,
            "grid_auto_columns": null,
            "grid_auto_flow": null,
            "grid_auto_rows": null,
            "grid_column": null,
            "grid_gap": null,
            "grid_row": null,
            "grid_template_areas": null,
            "grid_template_columns": null,
            "grid_template_rows": null,
            "height": null,
            "justify_content": null,
            "justify_items": null,
            "left": null,
            "margin": null,
            "max_height": null,
            "max_width": null,
            "min_height": null,
            "min_width": null,
            "object_fit": null,
            "object_position": null,
            "order": null,
            "overflow": null,
            "overflow_x": null,
            "overflow_y": null,
            "padding": null,
            "right": null,
            "top": null,
            "visibility": null,
            "width": null
          }
        },
        "84e6a85974d34432a905cd399e253d72": {
          "model_module": "@jupyter-widgets/controls",
          "model_module_version": "1.5.0",
          "model_name": "DescriptionStyleModel",
          "state": {
            "_model_module": "@jupyter-widgets/controls",
            "_model_module_version": "1.5.0",
            "_model_name": "DescriptionStyleModel",
            "_view_count": null,
            "_view_module": "@jupyter-widgets/base",
            "_view_module_version": "1.2.0",
            "_view_name": "StyleView",
            "description_width": ""
          }
        },
        "8a9e47d0304b440d84fea4de4a68d8a6": {
          "model_module": "@jupyter-widgets/base",
          "model_module_version": "1.2.0",
          "model_name": "LayoutModel",
          "state": {
            "_model_module": "@jupyter-widgets/base",
            "_model_module_version": "1.2.0",
            "_model_name": "LayoutModel",
            "_view_count": null,
            "_view_module": "@jupyter-widgets/base",
            "_view_module_version": "1.2.0",
            "_view_name": "LayoutView",
            "align_content": null,
            "align_items": null,
            "align_self": null,
            "border": null,
            "bottom": null,
            "display": null,
            "flex": null,
            "flex_flow": null,
            "grid_area": null,
            "grid_auto_columns": null,
            "grid_auto_flow": null,
            "grid_auto_rows": null,
            "grid_column": null,
            "grid_gap": null,
            "grid_row": null,
            "grid_template_areas": null,
            "grid_template_columns": null,
            "grid_template_rows": null,
            "height": null,
            "justify_content": null,
            "justify_items": null,
            "left": null,
            "margin": null,
            "max_height": null,
            "max_width": null,
            "min_height": null,
            "min_width": null,
            "object_fit": null,
            "object_position": null,
            "order": null,
            "overflow": null,
            "overflow_x": null,
            "overflow_y": null,
            "padding": null,
            "right": null,
            "top": null,
            "visibility": null,
            "width": null
          }
        },
        "95bb450c39cc44f4829bce8fff8047d0": {
          "model_module": "@jupyter-widgets/controls",
          "model_module_version": "1.5.0",
          "model_name": "HTMLModel",
          "state": {
            "_dom_classes": [],
            "_model_module": "@jupyter-widgets/controls",
            "_model_module_version": "1.5.0",
            "_model_name": "HTMLModel",
            "_view_count": null,
            "_view_module": "@jupyter-widgets/controls",
            "_view_module_version": "1.5.0",
            "_view_name": "HTMLView",
            "description": "",
            "description_tooltip": null,
            "layout": "IPY_MODEL_31b4fcc814ed4321a6122066d9e7f30b",
            "placeholder": "​",
            "style": "IPY_MODEL_84e6a85974d34432a905cd399e253d72",
            "value": " 150/150 [00:00&lt;00:00, 1162.37it/s]"
          }
        },
        "a1ef9f4fe67349ccb3a5ad4e3b1f8619": {
          "model_module": "@jupyter-widgets/base",
          "model_module_version": "1.2.0",
          "model_name": "LayoutModel",
          "state": {
            "_model_module": "@jupyter-widgets/base",
            "_model_module_version": "1.2.0",
            "_model_name": "LayoutModel",
            "_view_count": null,
            "_view_module": "@jupyter-widgets/base",
            "_view_module_version": "1.2.0",
            "_view_name": "LayoutView",
            "align_content": null,
            "align_items": null,
            "align_self": null,
            "border": null,
            "bottom": null,
            "display": null,
            "flex": null,
            "flex_flow": null,
            "grid_area": null,
            "grid_auto_columns": null,
            "grid_auto_flow": null,
            "grid_auto_rows": null,
            "grid_column": null,
            "grid_gap": null,
            "grid_row": null,
            "grid_template_areas": null,
            "grid_template_columns": null,
            "grid_template_rows": null,
            "height": null,
            "justify_content": null,
            "justify_items": null,
            "left": null,
            "margin": null,
            "max_height": null,
            "max_width": null,
            "min_height": null,
            "min_width": null,
            "object_fit": null,
            "object_position": null,
            "order": null,
            "overflow": null,
            "overflow_x": null,
            "overflow_y": null,
            "padding": null,
            "right": null,
            "top": null,
            "visibility": null,
            "width": null
          }
        },
        "c4dc8afdce024c85871d80f27354ec09": {
          "model_module": "@jupyter-widgets/controls",
          "model_module_version": "1.5.0",
          "model_name": "HTMLModel",
          "state": {
            "_dom_classes": [],
            "_model_module": "@jupyter-widgets/controls",
            "_model_module_version": "1.5.0",
            "_model_name": "HTMLModel",
            "_view_count": null,
            "_view_module": "@jupyter-widgets/controls",
            "_view_module_version": "1.5.0",
            "_view_name": "HTMLView",
            "description": "",
            "description_tooltip": null,
            "layout": "IPY_MODEL_d10b0d45cdb64550b918e7d7f02e482e",
            "placeholder": "​",
            "style": "IPY_MODEL_156ac5296f7a4756b41a5081a472e96e",
            "value": "100%"
          }
        },
        "d10b0d45cdb64550b918e7d7f02e482e": {
          "model_module": "@jupyter-widgets/base",
          "model_module_version": "1.2.0",
          "model_name": "LayoutModel",
          "state": {
            "_model_module": "@jupyter-widgets/base",
            "_model_module_version": "1.2.0",
            "_model_name": "LayoutModel",
            "_view_count": null,
            "_view_module": "@jupyter-widgets/base",
            "_view_module_version": "1.2.0",
            "_view_name": "LayoutView",
            "align_content": null,
            "align_items": null,
            "align_self": null,
            "border": null,
            "bottom": null,
            "display": null,
            "flex": null,
            "flex_flow": null,
            "grid_area": null,
            "grid_auto_columns": null,
            "grid_auto_flow": null,
            "grid_auto_rows": null,
            "grid_column": null,
            "grid_gap": null,
            "grid_row": null,
            "grid_template_areas": null,
            "grid_template_columns": null,
            "grid_template_rows": null,
            "height": null,
            "justify_content": null,
            "justify_items": null,
            "left": null,
            "margin": null,
            "max_height": null,
            "max_width": null,
            "min_height": null,
            "min_width": null,
            "object_fit": null,
            "object_position": null,
            "order": null,
            "overflow": null,
            "overflow_x": null,
            "overflow_y": null,
            "padding": null,
            "right": null,
            "top": null,
            "visibility": null,
            "width": null
          }
        },
        "d99b7ba8110847ef90d7606026c4160f": {
          "model_module": "@jupyter-widgets/controls",
          "model_module_version": "1.5.0",
          "model_name": "HBoxModel",
          "state": {
            "_dom_classes": [],
            "_model_module": "@jupyter-widgets/controls",
            "_model_module_version": "1.5.0",
            "_model_name": "HBoxModel",
            "_view_count": null,
            "_view_module": "@jupyter-widgets/controls",
            "_view_module_version": "1.5.0",
            "_view_name": "HBoxView",
            "box_style": "",
            "children": [
              "IPY_MODEL_c4dc8afdce024c85871d80f27354ec09",
              "IPY_MODEL_1aebea7312a34f81827ec71fcb06b17d",
              "IPY_MODEL_95bb450c39cc44f4829bce8fff8047d0"
            ],
            "layout": "IPY_MODEL_8a9e47d0304b440d84fea4de4a68d8a6"
          }
        },
        "dd03346e4a694dc39a7a9141401f8664": {
          "model_module": "@jupyter-widgets/controls",
          "model_module_version": "1.5.0",
          "model_name": "ProgressStyleModel",
          "state": {
            "_model_module": "@jupyter-widgets/controls",
            "_model_module_version": "1.5.0",
            "_model_name": "ProgressStyleModel",
            "_view_count": null,
            "_view_module": "@jupyter-widgets/base",
            "_view_module_version": "1.2.0",
            "_view_name": "StyleView",
            "bar_color": null,
            "description_width": ""
          }
        }
      }
    }
  },
  "nbformat": 4,
  "nbformat_minor": 0
}
