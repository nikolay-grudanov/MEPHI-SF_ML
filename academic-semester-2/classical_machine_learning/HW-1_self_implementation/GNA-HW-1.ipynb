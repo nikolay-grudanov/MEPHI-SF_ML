{
 "cells": [
  {
   "cell_type": "markdown",
   "id": "fa6de620",
   "metadata": {},
   "source": [
    "# Домашняя работа по дисциплине \"Классическое машинное обучение\" \n",
    "\n",
    "## Задача регрессии (self implementation) \n",
    "\n",
    "Работу выполнил студент Груданов Николай."
   ]
  },
  {
   "cell_type": "code",
   "execution_count": 2,
   "id": "2f2f70c1",
   "metadata": {},
   "outputs": [],
   "source": [
    "import numpy as np\n",
    "import pandas as pd\n",
    "import matplotlib.pyplot as plt"
   ]
  },
  {
   "cell_type": "code",
   "execution_count": 6,
   "id": "e4a0eca4",
   "metadata": {},
   "outputs": [],
   "source": [
    "df = pd.read_csv('asset-v1_SkillFactory+MIFIML-2sem+2025+type@asset+block@salary_data.csv')"
   ]
  },
  {
   "cell_type": "code",
   "execution_count": 7,
   "id": "3334bbfe",
   "metadata": {},
   "outputs": [
    {
     "data": {
      "application/vnd.microsoft.datawrangler.viewer.v0+json": {
       "columns": [
        {
         "name": "index",
         "rawType": "int64",
         "type": "integer"
        },
        {
         "name": "YearsExperience",
         "rawType": "float64",
         "type": "float"
        },
        {
         "name": "Salary",
         "rawType": "int64",
         "type": "integer"
        }
       ],
       "ref": "93f16d06-ed54-4fbc-98b3-e0bb97aff503",
       "rows": [
        [
         "0",
         "1.1",
         "39343"
        ],
        [
         "1",
         "1.3",
         "46205"
        ],
        [
         "2",
         "1.5",
         "37731"
        ],
        [
         "3",
         "2.0",
         "43525"
        ],
        [
         "4",
         "2.2",
         "39891"
        ]
       ],
       "shape": {
        "columns": 2,
        "rows": 5
       }
      },
      "text/html": [
       "<div>\n",
       "<style scoped>\n",
       "    .dataframe tbody tr th:only-of-type {\n",
       "        vertical-align: middle;\n",
       "    }\n",
       "\n",
       "    .dataframe tbody tr th {\n",
       "        vertical-align: top;\n",
       "    }\n",
       "\n",
       "    .dataframe thead th {\n",
       "        text-align: right;\n",
       "    }\n",
       "</style>\n",
       "<table border=\"1\" class=\"dataframe\">\n",
       "  <thead>\n",
       "    <tr style=\"text-align: right;\">\n",
       "      <th></th>\n",
       "      <th>YearsExperience</th>\n",
       "      <th>Salary</th>\n",
       "    </tr>\n",
       "  </thead>\n",
       "  <tbody>\n",
       "    <tr>\n",
       "      <th>0</th>\n",
       "      <td>1.1</td>\n",
       "      <td>39343</td>\n",
       "    </tr>\n",
       "    <tr>\n",
       "      <th>1</th>\n",
       "      <td>1.3</td>\n",
       "      <td>46205</td>\n",
       "    </tr>\n",
       "    <tr>\n",
       "      <th>2</th>\n",
       "      <td>1.5</td>\n",
       "      <td>37731</td>\n",
       "    </tr>\n",
       "    <tr>\n",
       "      <th>3</th>\n",
       "      <td>2.0</td>\n",
       "      <td>43525</td>\n",
       "    </tr>\n",
       "    <tr>\n",
       "      <th>4</th>\n",
       "      <td>2.2</td>\n",
       "      <td>39891</td>\n",
       "    </tr>\n",
       "  </tbody>\n",
       "</table>\n",
       "</div>"
      ],
      "text/plain": [
       "   YearsExperience  Salary\n",
       "0              1.1   39343\n",
       "1              1.3   46205\n",
       "2              1.5   37731\n",
       "3              2.0   43525\n",
       "4              2.2   39891"
      ]
     },
     "execution_count": 7,
     "metadata": {},
     "output_type": "execute_result"
    }
   ],
   "source": [
    "df.head()"
   ]
  },
  {
   "cell_type": "code",
   "execution_count": 8,
   "id": "d13b5461",
   "metadata": {},
   "outputs": [],
   "source": [
    "class LinearRegression():\n",
    "   \"\"\"\n",
    "   Класс для реализации линейной регрессии с градиентным спуском\n",
    "   \"\"\"\n",
    "   \n",
    "   def __init__(self, learning_rate, iterations):\n",
    "       \"\"\"\n",
    "       Конструктор класса\n",
    "       \n",
    "       Parameters:\n",
    "       learning_rate (float): Скорость обучения (размер шага)\n",
    "       iterations (int): Количество итераций обучения\n",
    "       \"\"\"\n",
    "       self.learning_rate = learning_rate\n",
    "       self.iterations = iterations\n",
    "       \n",
    "   def fit(self, X, Y):\n",
    "       \"\"\"\n",
    "       Метод обучения модели\n",
    "       \n",
    "       Parameters:\n",
    "       X (array): Матрица признаков\n",
    "       Y (array): Целевая переменная\n",
    "       \"\"\"\n",
    "       # Инициализируем количество примеров и признаков\n",
    "       self.m, self.n = X.shape\n",
    "       \n",
    "       # Инициализируем веса и смещение\n",
    "       self.weights = np.zeros(self.n)\n",
    "       self.bias = 0\n",
    "       \n",
    "       # Сохраняем входные данные для метода update_weights\n",
    "       self.X = X\n",
    "       self.Y = Y\n",
    "       \n",
    "       # Цикл обучения с градиентным спуском\n",
    "       for i in range(self.iterations):\n",
    "           self.update_weights()\n",
    "       \n",
    "       return self\n",
    "   \n",
    "   def update_weights(self):\n",
    "       \"\"\"\n",
    "       Метод обновления весов с помощью градиентного спуска\n",
    "       \"\"\"\n",
    "       # Делаем предсказания\n",
    "       Y_pred = self.predict(self.X)\n",
    "       \n",
    "       # Вычисляем градиенты\n",
    "       # Градиент по весам: dw = (1/m) * X.T * (Y_pred - Y)\n",
    "       dw = (1 / self.m) * np.dot(self.X.T, (Y_pred - self.Y))\n",
    "       \n",
    "       # Градиент по смещению: db = (1/m) * sum(Y_pred - Y)\n",
    "       db = (1 / self.m) * np.sum(Y_pred - self.Y)\n",
    "       \n",
    "       # Обновляем параметры модели\n",
    "       self.weights = self.weights - self.learning_rate * dw\n",
    "       self.bias = self.bias - self.learning_rate * db\n",
    "       \n",
    "       return self\n",
    "   \n",
    "   def predict(self, X):\n",
    "       \"\"\"\n",
    "       Метод предсказания\n",
    "       \n",
    "       Parameters:\n",
    "       X (array): Матрица признаков для предсказания\n",
    "       \n",
    "       Returns:\n",
    "       array: Предсказанные значения\n",
    "       \"\"\"\n",
    "       return np.dot(X, self.weights) + self.bias\n",
    "\n"
   ]
  },
  {
   "cell_type": "code",
   "execution_count": 9,
   "id": "8090b364",
   "metadata": {},
   "outputs": [
    {
     "name": "stdout",
     "output_type": "stream",
     "text": [
      "9876.11\n",
      "22920.49\n"
     ]
    }
   ],
   "source": [
    "X = df.iloc[:,:-1].values\n",
    "Y = df.iloc[:,1].values\n",
    "\n",
    "model = LinearRegression(iterations=1000, learning_rate=0.01)\n",
    "model.fit(X, Y)\n",
    "\n",
    "Y_pred = model.predict(X)\n",
    "\n",
    "# Вывод результатов\n",
    "print(*np.round(model.weights, 2))\n",
    "print(np.round(model.bias, 2))"
   ]
  },
  {
   "cell_type": "code",
   "execution_count": 10,
   "id": "00ad78e7",
   "metadata": {},
   "outputs": [
    {
     "data": {
      "image/png": "[encoded data removed]",
      "text/plain": [
       "<Figure size 640x480 with 1 Axes>"
      ]
     },
     "metadata": {},
     "output_type": "display_data"
    }
   ],
   "source": [
    "# Визуализация\n",
    "plt.scatter(X, Y, color='blue', label='Исходные данные')\n",
    "plt.plot(X, Y_pred, color='orange', label='Линия регрессии')\n",
    "plt.title('Зависимость зарплаты от опыта')\n",
    "plt.xlabel('Число лет опыта')\n",
    "plt.ylabel('Зарплата')\n",
    "plt.legend()\n",
    "plt.show()"
   ]
  }
 ],
 "metadata": {
  "kernelspec": {
   "display_name": "ml",
   "language": "python",
   "name": "python3"
  },
  "language_info": {
   "codemirror_mode": {
    "name": "ipython",
    "version": 3
   },
   "file_extension": ".py",
   "mimetype": "text/x-python",
   "name": "python",
   "nbconvert_exporter": "python",
   "pygments_lexer": "ipython3",
   "version": "3.12.7"
  }
 },
 "nbformat": 4,
 "nbformat_minor": 5
}
