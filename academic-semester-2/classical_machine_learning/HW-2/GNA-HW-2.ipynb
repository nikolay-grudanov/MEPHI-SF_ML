{
 "cells": [
  {
   "cell_type": "markdown",
   "id": "d829d83f",
   "metadata": {},
   "source": [
    "# Домашняя работа по дисциплине \"Классическое машинное обучение\" \n",
    "\n",
    "## Практическое задание №2\n",
    "\n",
    "Работу выполнил студент Груданов Николай."
   ]
  },
  {
   "cell_type": "markdown",
   "id": "3c8c4fa4",
   "metadata": {},
   "source": [
    "---\n",
    "\n",
    "### **Реализация на Python**"
   ]
  },
  {
   "cell_type": "markdown",
   "id": "4f48e1eb",
   "metadata": {},
   "source": [
    "**1. Импорт библиотек и генерация данных**\n",
    "\n",
    "Сначала импортируем `numpy` для вычислений и `matplotlib` для визуализации. Затем создадим синтетический набор данных для нашей задачи."
   ]
  },
  {
   "cell_type": "code",
   "execution_count": 8,
   "id": "f5845292",
   "metadata": {},
   "outputs": [],
   "source": [
    "import numpy as np\n",
    "import matplotlib.pyplot as plt"
   ]
  },
  {
   "cell_type": "code",
   "execution_count": 9,
   "id": "dd216c2c",
   "metadata": {},
   "outputs": [],
   "source": [
    "# Генерируем данные для классификации\n",
    "# Создадим два облака точек\n",
    "np.random.seed(42) # для воспроизводимости результатов\n",
    "n_samples = 200\n",
    "X = np.random.randn(n_samples, 2)\n",
    "X[:n_samples//2] = X[:n_samples//2] + 2 # Сдвигаем первое облако\n",
    "X[n_samples//2:] = X[n_samples//2:] - 2 # Сдвигаем второе облако\n",
    "\n",
    "# Создаем целевую переменную (метки классов)\n",
    "y = np.array([0] * (n_samples//2) + [1] * (n_samples//2))\n",
    "\n",
    "# Добавляем столбец единиц для учета свободного члена (bias)\n",
    "X = np.hstack([np.ones((n_samples, 1)), X])\n"
   ]
  },
  {
   "cell_type": "markdown",
   "id": "13904f87",
   "metadata": {},
   "source": [
    "**2. Реализация функций**\n",
    "\n",
    "Теперь напишем три ключевые функции, как требовалось в задании."
   ]
  },
  {
   "cell_type": "code",
   "execution_count": 10,
   "id": "2cf12f08",
   "metadata": {},
   "outputs": [],
   "source": [
    "def sigmoid(z):\n",
    "    \"\"\"Сигмоидная функция\"\"\"\n",
    "    return 1 / (1 + np.exp(-z))\n"
   ]
  },
  {
   "cell_type": "code",
   "execution_count": 11,
   "id": "3ca109e6",
   "metadata": {},
   "outputs": [],
   "source": [
    "def log_loss(w, X, y):\n",
    "    \"\"\"\n",
    "    Вычисляет логистическую функцию потерь и ее градиент.\n",
    "    \n",
    "    Parameters:\n",
    "    w (np.array): Вектор весов модели.\n",
    "    X (np.array): Матрица признаков.\n",
    "    y (np.array): Вектор истинных меток.\n",
    "    \n",
    "    Returns:\n",
    "    tuple: (значение функции потерь, вектор градиента).\n",
    "    \"\"\"\n",
    "    m = X.shape[0]  # Количество объектов\n",
    "    \n",
    "    # 1. Вычисляем предсказания (вероятности)\n",
    "    z = np.dot(X, w)\n",
    "    A = sigmoid(z)\n",
    "    \n",
    "    # Добавляем небольшую константу, чтобы избежать log(0)\n",
    "    epsilon = 1e-5\n",
    "    \n",
    "    # 2. Вычисляем функцию потерь (Log Loss)\n",
    "    loss = -1/m * np.sum(y * np.log(A + epsilon) + (1 - y) * np.log(1 - A + epsilon))\n",
    "    \n",
    "    # 3. Вычисляем градиент\n",
    "    grad = 1/m * np.dot(X.T, (A - y))\n",
    "    \n",
    "    return loss, grad"
   ]
  },
  {
   "cell_type": "code",
   "execution_count": 12,
   "id": "bb4957df",
   "metadata": {},
   "outputs": [],
   "source": [
    "def optimize(w, X, y, n_iterations, eta):\n",
    "    \"\"\"\n",
    "    Оптимизирует веса модели с помощью градиентного спуска.\n",
    "    \n",
    "    Parameters:\n",
    "    w (np.array): Начальные веса.\n",
    "    X (np.array): Матрица признаков.\n",
    "    y (np.array): Вектор истинных меток.\n",
    "    n_iterations (int): Количество итераций.\n",
    "    eta (float): Скорость обучения (learning rate).\n",
    "    \n",
    "    Returns:\n",
    "    tuple: (оптимизированные веса, список потерь на каждой итрации).\n",
    "    \"\"\"\n",
    "    losses = []\n",
    "    \n",
    "    for i in range(n_iterations):\n",
    "        # Вычисляем потери и градиент на текущем шаге\n",
    "        loss, grad = log_loss(w, X, y)\n",
    "        \n",
    "        # Обновляем веса\n",
    "        w = w - eta * grad\n",
    "        \n",
    "        losses.append(loss)\n",
    "        \n",
    "    return w, losses"
   ]
  },
  {
   "cell_type": "code",
   "execution_count": 13,
   "id": "4b3291b0",
   "metadata": {},
   "outputs": [],
   "source": [
    "def predict(w, X, b=0.5):\n",
    "    \"\"\"\n",
    "    Делает предсказания классов на основе обученных весов.\n",
    "    \n",
    "    Parameters:\n",
    "    w (np.array): Обученные веса.\n",
    "    X (np.array): Матрица признаков.\n",
    "    b (float): Порог для классификации.\n",
    "    \n",
    "    Returns:\n",
    "    np.array: Вектор предсказанных меток (0 или 1).\n",
    "    \"\"\"\n",
    "    # Вычисляем вероятности\n",
    "    A = sigmoid(np.dot(X, w))\n",
    "    \n",
    "    # Применяем порог для получения классов\n",
    "    y_predicted = (A >= b).astype(int)\n",
    "    \n",
    "    return y_predicted"
   ]
  },
  {
   "cell_type": "markdown",
   "id": "82908822",
   "metadata": {},
   "source": [
    "**3. Запуск эксперимента и оценка результатов**\n",
    "\n",
    "Теперь объединим все вместе: обучим модель, посмотрим, как менялась функция потерь, и оценим точность."
   ]
  },
  {
   "cell_type": "code",
   "execution_count": 14,
   "id": "4dcb55a0",
   "metadata": {},
   "outputs": [
    {
     "name": "stdout",
     "output_type": "stream",
     "text": [
      "Оптимальные веса: [-0.24 -2.43 -1.75]\n",
      "Точность модели: 100.00%\n"
     ]
    },
    {
     "data": {
      "image/png": "[encoded data removed]",
      "text/plain": [
       "<Figure size 1000x600 with 1 Axes>"
      ]
     },
     "metadata": {},
     "output_type": "display_data"
    }
   ],
   "source": [
    "# Задаем гиперпараметры\n",
    "n_iterations = 1000\n",
    "eta = 0.1 # Скорость обучения\n",
    "\n",
    "# Инициализируем веса случайными значениями\n",
    "# Размерность весов равна количеству признаков + 1 (для bias)\n",
    "w_init = np.random.randn(X.shape[1])\n",
    "\n",
    "# Обучаем модель\n",
    "w_optimal, losses = optimize(w_init, X, y, n_iterations, eta)\n",
    "\n",
    "# Делаем предсказания на тех же данных\n",
    "y_pred = predict(w_optimal, X)\n",
    "\n",
    "# Оцениваем качество\n",
    "accuracy = np.mean(y_pred == y) * 100\n",
    "\n",
    "print(f\"Оптимальные веса: {np.round(w_optimal, 2)}\")\n",
    "print(f\"Точность модели: {accuracy:.2f}%\")\n",
    "\n",
    "# Строим график изменения функции потерь\n",
    "plt.figure(figsize=(10, 6))\n",
    "plt.plot(range(n_iterations), losses)\n",
    "plt.title('Изменение функции потерь (Log Loss) в процессе обучения')\n",
    "plt.xlabel('Итерация')\n",
    "plt.ylabel('Loss')\n",
    "plt.grid(True)\n",
    "plt.show()\n"
   ]
  },
  {
   "cell_type": "markdown",
   "id": "0caa6b68",
   "metadata": {},
   "source": [
    "---"
   ]
  },
  {
   "cell_type": "markdown",
   "id": "cf624795",
   "metadata": {},
   "source": [
    "### **Дополнительные вопросы**"
   ]
  },
  {
   "cell_type": "markdown",
   "id": "6b293f01",
   "metadata": {},
   "source": [
    "\n",
    "#### 1. Как влияет размер шага (`eta`) на сходимость алгоритма?\n",
    "\n",
    "Размер шага, или скорость обучения (`eta`), — это критически важный гиперпараметр.\n",
    "\n",
    "* **Слишком большой `eta`:** Алгоритм может \"перепрыгивать\" через точку минимума функции потерь. Вместо того чтобы сходиться, потери могут начать расти, и алгоритм разойдется.\n",
    "* **Слишком маленький `eta`:** Алгоритму потребуется очень много итераций, чтобы достичь минимума. Обучение будет неоправданно долгим.\n",
    "* **Оптимальный `eta`:** Позволяет достаточно быстро и стабильно двигаться к минимуму, не пропуская его.\n",
    "\n",
    "\n",
    "#### 2. Что произойдет, если выбрать слишком маленькое или слишком большое количество итераций (`n_iterations`)?\n",
    "\n",
    "* **Слишком мало итераций:** Модель не успеет обучиться. Градиентный спуск не дойдет до точки минимума, и веса будут далеки от оптимальных. Это называется **недообучением (underfitting)**. Модель будет плохо работать как на обучающих, так и на новых данных.\n",
    "* **Слишком много итераций:** Если модель уже достигла минимума, дальнейшие итерации просто тратят вычислительные ресурсы впустую. В более сложных моделях чрезмерное количество итераций на обучающей выборке может привести к **переобучению (overfitting)**, когда модель слишком хорошо подстраивается под обучающие данные и теряет способность к обобщению на новых данных.\n",
    "\n",
    "\n",
    "#### 3. Почему логистическая регрессия подходит для задач только бинарной классификации?\n",
    "\n",
    "Стандартная логистическая регрессия по своей природе является бинарным классификатором из-за использования **сигмоидной функции**. Эта функция отображает выход линейной модели в диапазон ``, что идеально подходит для интерпретации как вероятности принадлежности к **одному** из двух классов (например, классу \"1\").\n",
    "\n",
    "Для решения задач с тремя и более классами (мультиклассовая классификация) используются модификации этого подхода, например:\n",
    "\n",
    "* **One-vs-Rest (OvR):** Обучается `N` бинарных классификаторов, где `N` — количество классов. Каждый классификатор учится отделять \"свой\" класс от всех остальных.\n",
    "* **Softmax-регрессия:** Является обобщением логистической регрессии. Вместо сигмоиды используется функция **Softmax**, которая на выходе дает вектор вероятностей для каждого из `N` классов, причем сумма этих вероятностей равна 1."
   ]
  }
 ],
 "metadata": {
  "kernelspec": {
   "display_name": "ml",
   "language": "python",
   "name": "python3"
  },
  "language_info": {
   "codemirror_mode": {
    "name": "ipython",
    "version": 3
   },
   "file_extension": ".py",
   "mimetype": "text/x-python",
   "name": "python",
   "nbconvert_exporter": "python",
   "pygments_lexer": "ipython3",
   "version": "3.12.7"
  }
 },
 "nbformat": 4,
 "nbformat_minor": 5
}
