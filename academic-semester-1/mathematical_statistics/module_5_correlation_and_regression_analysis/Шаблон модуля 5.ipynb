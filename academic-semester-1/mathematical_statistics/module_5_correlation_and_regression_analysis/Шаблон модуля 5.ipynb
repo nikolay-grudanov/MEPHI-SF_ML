{
 "cells": [
  {
   "cell_type": "code",
   "execution_count": 735,
   "id": "e1e5e876-57e7-4f3c-8319-dd0661fa1bc4",
   "metadata": {},
   "outputs": [],
   "source": [
    "import pandas as pd\n",
    "import numpy as np\n",
    "import matplotlib.pyplot as plt\n",
    "import scipy as sc\n",
    "import seaborn as sns"
   ]
  },
  {
   "cell_type": "markdown",
   "id": "c389725c-5bc5-480c-8dfe-2e284ff67a87",
   "metadata": {},
   "source": [
    "Задание №1. Проведите корреляционный анализ данных из файла 'ex1.csv' по Пирсону"
   ]
  },
  {
   "cell_type": "code",
   "execution_count": 738,
   "id": "28a64100-fc7b-4b7c-847f-5677b7894441",
   "metadata": {},
   "outputs": [],
   "source": [
    "# считывание файла\n",
    "df1 = pd.read_csv('ex1.csv') "
   ]
  },
  {
   "cell_type": "code",
   "execution_count": 740,
   "id": "cf7e0d15-7b43-4b5a-a8ff-78d3d1656297",
   "metadata": {},
   "outputs": [],
   "source": [
    "# КРИТЕРИЙ 1\n",
    "\n",
    "# проверка, что все элементы - численного типа\n",
    "\n",
    "# построение гистограмм распределения\n",
    "\n",
    "# построение \"ящика с усами\" для изучения выбросов\n",
    "\n",
    "# построение диаграммы рассеяния\n",
    "\n",
    "# вывод о целесообразности использования корреляции Пирсона с обоснованием на основе предшествующих графиков\n"
   ]
  },
  {
   "cell_type": "code",
   "execution_count": 742,
   "id": "ee91021a-a952-41d2-95ee-90333a653755",
   "metadata": {},
   "outputs": [],
   "source": [
    "# КРИТЕРИЙ 2\n",
    "\n",
    "# расчет коэффициента Пирсона\n",
    "\n",
    "# расчет t-критерия\n",
    "\n",
    "# вывод о степени корреляции величин и статистической значимости их взаимосвязи \n"
   ]
  },
  {
   "cell_type": "markdown",
   "id": "0c15c190-15f6-4396-8abb-5fb48e3d2229",
   "metadata": {},
   "source": [
    "Задание №2. Проведите корреляционный анализ данных из файла 'ex2.csv' по Спирмену"
   ]
  },
  {
   "cell_type": "code",
   "execution_count": 745,
   "id": "d4a53f4b-6a8c-4935-81df-d4451444b440",
   "metadata": {},
   "outputs": [],
   "source": [
    "# считывание файла\n",
    "df2 = pd.read_csv('ex2.csv') "
   ]
  },
  {
   "cell_type": "code",
   "execution_count": 747,
   "id": "043c2e7d-e953-4f2e-af8c-8d0381316169",
   "metadata": {},
   "outputs": [],
   "source": [
    "# КРИТЕРИЙ 3\n",
    "\n",
    "# проверка, что все элементы - численного типа\n",
    "\n",
    "# построение гистограмм распределения\n",
    "\n",
    "# построение \"ящика с усами\" для изучения выбросов\n",
    "\n",
    "# построение диаграммы рассеяния\n",
    "\n",
    "# вывод о целесообразности использования корреляции Спирмена с обоснованием на основе предшествующих графиков\n"
   ]
  },
  {
   "cell_type": "code",
   "execution_count": 749,
   "id": "30f6aace-6c23-4170-a8ff-dccdb35b80ee",
   "metadata": {},
   "outputs": [],
   "source": [
    "# КРИТЕРИЙ 4\n",
    "\n",
    "# расчет коэффициента Спирмена\n",
    "\n",
    "# расчет t-критерия\n",
    "\n",
    "# вывод о степени корреляции величин и статистической значимости их взаимосвязи \n"
   ]
  },
  {
   "cell_type": "markdown",
   "id": "ce4b2e8a-911f-4564-b3ac-a740af65adb6",
   "metadata": {},
   "source": [
    "Задание №3. Проведите линейный регрессионный анализ данных из файла 'ex3.csv'"
   ]
  },
  {
   "cell_type": "code",
   "execution_count": 752,
   "id": "e0100071-4eb7-4fd3-ad5b-cf2288f9c977",
   "metadata": {},
   "outputs": [],
   "source": [
    "# считывание файла\n",
    "df3 = pd.read_csv('ex3.csv') "
   ]
  },
  {
   "cell_type": "code",
   "execution_count": 754,
   "id": "ace92ef6-8911-4a6f-87f9-da180adfcd31",
   "metadata": {},
   "outputs": [],
   "source": [
    "# КРИТЕРИЙ 5\n",
    "\n",
    "# построение диаграммы рассеяния\n",
    "\n",
    "# вывод о целесообразности использования корреляции Пирсона\n",
    "\n",
    "# расчет коэффициента Пирсона\n"
   ]
  },
  {
   "cell_type": "code",
   "execution_count": 756,
   "id": "c7734af3-1301-4066-a75a-a369b7581b02",
   "metadata": {},
   "outputs": [],
   "source": [
    "# КРИТЕРИЙ 6\n",
    "\n",
    "# расчет коэффициентов линейной регрессии\n",
    "\n",
    "# построение диаграммы рассеяния прогнозных и реальных значений на одном графике\n"
   ]
  },
  {
   "cell_type": "code",
   "execution_count": 758,
   "id": "b83e7909-6f9a-453d-a42f-44bde160a7de",
   "metadata": {},
   "outputs": [],
   "source": [
    "# КРИТЕРИЙ 7\n",
    "\n",
    "# расчет средней ошибки аппроксимации\n"
   ]
  },
  {
   "cell_type": "code",
   "execution_count": 760,
   "id": "9c240e92-c14f-4751-8ff8-f2979a791fff",
   "metadata": {},
   "outputs": [],
   "source": [
    "# КРИТЕРИЙ 8\n",
    "\n",
    "# расчет F-критерия\n",
    "\n",
    "# вывод о статистической значимости уравнения в целом\n"
   ]
  },
  {
   "cell_type": "code",
   "execution_count": 762,
   "id": "e2dc9b63-4e8d-471f-9b4d-a1576213bcdb",
   "metadata": {},
   "outputs": [],
   "source": [
    "# КРИТЕРИЙ 9\n",
    "\n",
    "# расчет стандартных ошибок коэффициентов регрессии и коэффициента корреляции\n",
    "\n",
    "# расчет t-критерия коэффициентов регрессии и коэффициента корреляции\n",
    "\n",
    "# вывод о статистической значимости коэффициентов регрессии\n",
    "\n",
    "# запись диапазона коэффицентов регрессии\n"
   ]
  },
  {
   "cell_type": "code",
   "execution_count": 764,
   "id": "929fc1a5-16f6-464f-8da4-e7e72d414087",
   "metadata": {},
   "outputs": [],
   "source": [
    "# КРИТЕРИЙ 10\n",
    "\n",
    "# Дать предсказание в виде интервальной оценки для y при x0 = 6\n",
    "x0 = 6\n"
   ]
  },
  {
   "cell_type": "markdown",
   "id": "7ca0c6ea-fcee-4d8f-bdc4-a7830256aee6",
   "metadata": {},
   "source": [
    "Задание №4. Проведите линейный регрессионный анализ данных из файла 'ex4.csv'"
   ]
  },
  {
   "cell_type": "code",
   "execution_count": 767,
   "id": "9c48b781-e1ec-4f7a-93ba-32aec1b53e5f",
   "metadata": {},
   "outputs": [],
   "source": [
    "# считывание файла\n",
    "df4 = pd.read_csv('ex4.csv') "
   ]
  },
  {
   "cell_type": "code",
   "execution_count": 769,
   "id": "32d1859d-6ab8-40b5-9b5b-5437d1798448",
   "metadata": {},
   "outputs": [],
   "source": [
    "# КРИТЕРИЙ 11\n",
    "\n",
    "# построение диаграмм рассеяния (x1/y, x2/y, x1/x2)\n",
    "\n",
    "# вывод о корректности использования модели множественной регрессии\n",
    "\n",
    "# расчет коэффициентов корреляции\n",
    "\n",
    "# вывод о необходимости устранения какого-либо фактора\n"
   ]
  },
  {
   "cell_type": "code",
   "execution_count": 771,
   "id": "03d4ecd1-e481-4b10-b63b-619cb81d7c8a",
   "metadata": {},
   "outputs": [],
   "source": [
    "# КРИТЕРИЙ 12\n",
    "\n",
    "# расчет стандартных коэффицентов регрессии\n"
   ]
  },
  {
   "cell_type": "code",
   "execution_count": 779,
   "id": "3171e91a-6fe0-45df-ab86-f9a5ec358709",
   "metadata": {},
   "outputs": [],
   "source": [
    "# КРИТЕРИЙ 13\n",
    "\n",
    "# расчет коэффициентов \"чистой\" регрессии\n",
    "\n",
    "# построение диаграмм рассеяния прогнозных и реальных значений на одном графике\n"
   ]
  },
  {
   "cell_type": "code",
   "execution_count": 781,
   "id": "6c7f937b-58f0-4865-9847-1dc96ef0a4cf",
   "metadata": {},
   "outputs": [],
   "source": [
    "# КРИТЕРИЙ 14\n",
    "\n",
    "# расчет индекса множественной корреляции\n",
    "\n",
    "# расчет F-критерия\n",
    "\n",
    "# вывод о статистической значимости уравнения в целом"
   ]
  },
  {
   "cell_type": "code",
   "execution_count": 783,
   "id": "204f0dae-09d0-4e93-88b5-824d154f7211",
   "metadata": {},
   "outputs": [],
   "source": [
    "# КРИТЕРИЙ 15\n",
    "\n",
    "# построение 3D-изображения прогнозных и реальных значений на одном графике"
   ]
  }
 ],
 "metadata": {
  "kernelspec": {
   "display_name": "Python 3 (ipykernel)",
   "language": "python",
   "name": "python3"
  },
  "language_info": {
   "codemirror_mode": {
    "name": "ipython",
    "version": 3
   },
   "file_extension": ".py",
   "mimetype": "text/x-python",
   "name": "python",
   "nbconvert_exporter": "python",
   "pygments_lexer": "ipython3",
   "version": "3.12.4"
  }
 },
 "nbformat": 4,
 "nbformat_minor": 5
}
