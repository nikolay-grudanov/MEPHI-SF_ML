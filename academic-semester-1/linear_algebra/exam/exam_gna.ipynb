{
 "cells": [
  {
   "cell_type": "markdown",
   "metadata": {},
   "source": [
    "# Экзаменационное задание по курсу «Линейная алгебра»"
   ]
  },
  {
   "cell_type": "code",
   "execution_count": 1,
   "metadata": {},
   "outputs": [],
   "source": [
    "import pandas as pd\n",
    "import numpy as np\n",
    "from sklearn.model_selection import train_test_split\n",
    "from sklearn.metrics import mean_absolute_percentage_error, mean_squared_error"
   ]
  },
  {
   "cell_type": "markdown",
   "metadata": {},
   "source": [
    "## Часть 1: Задания, решаемые без использования Python"
   ]
  },
  {
   "cell_type": "markdown",
   "metadata": {},
   "source": [
    "### Задание 1"
   ]
  },
  {
   "cell_type": "markdown",
   "metadata": {},
   "source": [
    "Исследуйте систему векторов на линейную зависимость или независимость без использования Python (вручную):\n",
    "\n",
    "$$\\vec{a}_{1}=(1 ; 8 ;-1), \\vec{a}_{2}=(-2 ; 3 ; 3), \\vec{a}_{3}=(4 ;-11 ; 9)$$\n",
    "\n",
    "Подробно распишите решение, а в итоге сделайте вывод про то, являются ли векторы зависимыми или независимыми."
   ]
  },
  {
   "cell_type": "markdown",
   "metadata": {},
   "source": [
    "**Решение:**\n",
    "\n",
    "Проверяем существует ли ненулевое решение уравнения: $ c_1 \\mathbf{a_1} + c_2 \\mathbf{a_2} + c_3\\mathbf{a_3} = \\mathbf{0} $\n",
    "\n",
    "1. Подставляем значения векторов:\n",
    "\n",
    "    $$ c_1(1, 8, -1) + c_2(-2, 3, 3) + c_3(4, -11, 9) = (0, 0, 0) $$\n",
    "\n",
    "2. Раскроем скобки и запишем как систему уравнений:\n",
    "\n",
    "    \\begin{align}\n",
    "\n",
    "        \\begin{cases}\n",
    "\n",
    "            c_1 - 2c_2 + 4c_3 = 0,\n",
    "            \\\\\n",
    "            8c_1 + 3c_2 - 11c_3 = 0, \n",
    "            \\\\\n",
    "            -c_1 + 3c_2 + 9c_3 = 0. \n",
    "        \\end{cases}\n",
    "\n",
    "    \\end{align}\n",
    "\n",
    "3. Решим систему\n",
    "\n",
    "    \\begin{align}\n",
    "\n",
    "        c_1 = 2c_2 - 4c_3 \n",
    "        \\\\\n",
    "        c_1 = 3c_2 + 9c_3 \n",
    "        \\\\\n",
    "        c_2 = -13c_3\n",
    "        \\\\\n",
    "        c_1 = -30c_3\n",
    "\n",
    "    \\end{align}\n",
    "\n",
    "    Получившиеся значения подставим в $8c_1 + 3c_2 - 11c_3 = 0$\n",
    "\n",
    "    $$ -240c_3 -39c_3 -11c_3 = 0 \\Longrightarrow с_3 = 0 \\Longrightarrow с_1 = с_2 = 0 $$\n",
    "\n",
    "\n",
    "\n",
    "\n",
    "**Ответ:**\n",
    "Система уравнений имеет единственное решение $c_1 = 0$, $c_2 = 0$ и $c_3 = 0$. Это в свою очередь указывает на линейную независимость системы векторов $\\mathbf{a_1}$, $\\mathbf{a_2}$ и $\\mathbf{a_3}$."
   ]
  },
  {
   "cell_type": "markdown",
   "metadata": {},
   "source": [
    "---"
   ]
  },
  {
   "cell_type": "markdown",
   "metadata": {},
   "source": [
    "### Задание 2"
   ]
  },
  {
   "cell_type": "markdown",
   "metadata": {},
   "source": [
    "При каких значениях параметра a система векторов является линейно зависимой? Найдите решение без использования Python (вручную).\n",
    "\n",
    "$$\\vec{a}_{1}=(1 ; 0 ; 2 ;-3), \\vec{a}_{2}=(2 ; 2 ;-4 ; a), \\vec{a}_{3}=(3 ; 1 ; 2 ;-5)$$"
   ]
  },
  {
   "cell_type": "markdown",
   "metadata": {},
   "source": [
    "**Решение:**\n",
    "\n",
    "Вектора считаются линейно зависимыми, когда существует нетривиальное (ненулевое) решение уравнения:\n",
    "\n",
    "$$ c_1 \\mathbf{a_1} + c_2 \\mathbf{a_2} + c_3\\mathbf{a_3} = \\mathbf{0} $$\n",
    "\n",
    "где $c_1$, $c_2$, и $c_3$ - скалярные коэффициенты, а $\\mathbf{a_1}$, $\\mathbf{a_2}$, и $\\mathbf{a_3}$ - заданные вектора.\n",
    "\n",
    "\n",
    "Линейная зависимость векторов эквивалентна тому, что ранг матрицы, составленной из этих векторов, меньше количества самих векторов.\n",
    "\n",
    "Рассмотрим матрицу A, составленную из заданных векторов:\n",
    "\n",
    "\\begin{align}\n",
    "\n",
    "    A =\n",
    "    \\begin{vmatrix}\n",
    "    1 & 2 & 3 \\\\\n",
    "    0 & 2 & 1 \\\\\n",
    "    2 & -4 & 2 \\\\\n",
    "    -3 & a & -5\n",
    "    \\end{vmatrix}\n",
    "\n",
    "\\end{align}\n",
    "\n",
    "Здесь $a$ - неизвестный параметр, который нам нужно определить.\n",
    "\n",
    "Для нахождения условия линейной зависимости, мы рассмотрим определитель подматрицы, состоящей из первых трех строк и столбцов:\n",
    "\n",
    "\\begin{align}\n",
    "\n",
    "    \\det \n",
    "    \\begin{bmatrix}\n",
    "    1 & 2 & 3 \\\\\n",
    "    0 & 2 & 1 \\\\\n",
    "    2 & -4 & 2\n",
    "    \\end{bmatrix}\n",
    "\n",
    "\\end{align}\n",
    "\n",
    "Вычислим этот определитель\n",
    "\n",
    "\\begin{align}\n",
    "\n",
    "\\det \\begin{bmatrix}\n",
    "1 & 2 & 3 \\\\\n",
    "0 & 2 & 1 \\\\\n",
    "2 & -4 & 2\n",
    "\\end{bmatrix}\n",
    "= 1(2 \\cdot 2 - 1 \\cdot (-4)) - 2(0 \\cdot 2 - 1 \\cdot 2) + 3(0 \\cdot (-4) - 2 \\cdot 2)\n",
    "= 1(4 + 4) - 2(0 - 2) + 3(0 - 4) = 8 + 4 - 12 = 0\n",
    "\n",
    "\\end{align}\n",
    "\n",
    "\n",
    "**Ответ:** Определитель подматрицы равен нулю, что означает, что вектора $\\mathbf{a_1}$, $\\mathbf{a_2}$, и $\\mathbf{a_3}$ уже линейно зависимы. Таким образом, мы приходим к выводу, что параметр $a$ может принимать любые значения, не влияя на линейную зависимость векторов. Это означает, что система векторов будет линейно зависимой при любом значении $a$.\n",
    "\n"
   ]
  },
  {
   "cell_type": "markdown",
   "metadata": {},
   "source": [
    "---"
   ]
  },
  {
   "cell_type": "markdown",
   "metadata": {},
   "source": [
    "### Задание 3"
   ]
  },
  {
   "cell_type": "markdown",
   "metadata": {},
   "source": [
    "Выразите определитель матрицы. Найдите решение без использования Python (вручную).\n",
    "\n",
    "$$\\left|\\begin{array}{rrrr}1 & -1 & a & -1 \\\\ -1 & -2 & b & -1 \\\\ -2 & 0 & c & 1 \\\\ 0 & 1 & d & 0\\end{array}\\right|$$"
   ]
  },
  {
   "cell_type": "markdown",
   "metadata": {},
   "source": [
    "**Решение:**\n",
    "\n",
    "Чтобы найти определитель этой матрицы $ \\det(A) $, мы можем разложить его по элементам 4-ой строки\n",
    "\n",
    "\\begin{align}\n",
    "    \\det(A) = -0 \\cdot \\det(A_{41}) + 1 \\cdot \\det(A_{42}) - d \\cdot \\det(A_{43}) + 0 \\cdot \\det(A_{44})\n",
    "\\end{align}\n",
    "\n",
    "\n",
    "где $A_{ij}$ — это дополнение элемента $a_{ij}$, то есть определитель матрицы, полученной из $A$ исключением $i$-й строки и $j$-го столбца.\n",
    "\n",
    "Теперь вычислим каждый из этих определителей меньшего порядка $3 \\times 3$:\n",
    "\n",
    "\\begin{align}\n",
    "\n",
    "    -0 \\cdot \n",
    "    \\begin{vmatrix}\n",
    "    1 & a & -1\\\\\n",
    "    -2 & b & -1\\\\\n",
    "    0 & c & 1\n",
    "    \\end{vmatrix}\n",
    "    + 1 \\cdot\n",
    "    \\begin{vmatrix}\n",
    "    1 & a & -1\\\\\n",
    "    -1 & b & -1\\\\\n",
    "    -2 & c & 1\n",
    "    \\end{vmatrix}\n",
    "    -d \\cdot \n",
    "    \\begin{vmatrix}\n",
    "    1 & -1 & -1\\\\\n",
    "    -1 & -2 & -1\\\\\n",
    "    -2 & 0 & 1\n",
    "    \\end{vmatrix}\n",
    "    +0 \\cdot\n",
    "    \\begin{vmatrix}\n",
    "    1 & -1 & a\\\\\n",
    "    -1 & -2 & b\\\\\n",
    "    -2 & 0 & c\n",
    "    \\end{vmatrix} \n",
    "    = 0 - b + 3a + 2c - d -1 + 0 = -b+3a+2c+d\n",
    "\n",
    "\\end{align}\n",
    "\n",
    "\n",
    "**Ответ:** $-b+3a+2c+d$"
   ]
  },
  {
   "cell_type": "markdown",
   "metadata": {},
   "source": [
    "---"
   ]
  },
  {
   "cell_type": "markdown",
   "metadata": {},
   "source": [
    "### Задание 4"
   ]
  },
  {
   "cell_type": "markdown",
   "metadata": {},
   "source": [
    "Найдите значения параметров a, b и c, при которых матрицы A и B являются обратными. Найдите решение без использования Python (вручную).\n",
    "\n",
    "$$\n",
    "A=\\left(\\begin{array}{ccc}\n",
    "a & -2 & -1 \\\\\n",
    "-15 & b+20 & 12 \\\\\n",
    "10 & -19 & 2 c\n",
    "\\end{array}\\right), B=\\left(\\begin{array}{rrr}\n",
    "-4 & 3 & 5 \\\\\n",
    "0 & 2 & 3 \\\\\n",
    "-5 & -1 & -1\n",
    "\\end{array}\\right)\n",
    "$$"
   ]
  },
  {
   "cell_type": "markdown",
   "metadata": {},
   "source": [
    "**Решение:**\n",
    "\n",
    "Найдем произведение матриц и приравняем к единичной матрице:\n",
    "\n",
    "\\begin{align}\n",
    "\n",
    "    AB = \\left(\n",
    "        \\begin{array}{ccc}\n",
    "            a & -2 & -1 \\\\\n",
    "            -15 & b+20 & 12 \\\\\n",
    "            10 & -19 & 2c\n",
    "        \\end{array}\n",
    "    \\right)\n",
    "    \\left(\n",
    "        \\begin{array}{ccc}\n",
    "            -4 & 3 & 5 \\\\\n",
    "            0 & 2 & 3 \\\\\n",
    "            -5 & -1 & -1\n",
    "        \\end{array}\n",
    "    \\right) = \\left(\n",
    "        \\begin{array}{ccc}\n",
    "            5 - 4a & 3a - 3 & 5a - 5 \\\\\n",
    "            0 & 2b - 17 & 3b - 27 \\\\\n",
    "            -40 - 10c & -8 - 2c & -7 - 2c\n",
    "        \\end{array}\n",
    "    \\right)\n",
    "\n",
    "    \\\\[5em] \n",
    "\n",
    "    \\left(\n",
    "        \\begin{array}{ccc}\n",
    "            5 - 4a & 3a - 3 & 5a - 5 \\\\\n",
    "            0 & 2b - 17 & 3b - 27 \\\\\n",
    "            -40 - 10c & -8 - 2c & -7 - 2c\n",
    "        \\end{array}\n",
    "    \\right) = \\left(\n",
    "        \\begin{array}{ccc}\n",
    "            1 & 0 & 0 \\\\\n",
    "            0 & 1 & 0 \\\\\n",
    "            0 & 0 & 1\n",
    "        \\end{array}\n",
    "    \\right)\n",
    "\n",
    "\\end{align}\n",
    "\n",
    "**Ответ:** Решив три любых простых уравнения с разными переменными, получим  $ a = 1, \\quad b = 9, \\quad c = -4$"
   ]
  },
  {
   "cell_type": "markdown",
   "metadata": {},
   "source": [
    "---"
   ]
  },
  {
   "cell_type": "markdown",
   "metadata": {},
   "source": [
    "### Задание 5"
   ]
  },
  {
   "cell_type": "markdown",
   "metadata": {},
   "source": [
    "Найдите собственные векторы и собственные значения матрицы. Найдите решение без использования Python (вручную).\n",
    "\n",
    "$$\\left(\\begin{array}{rrr}4 & 0 & -1 \\\\ 2 & 2 & 1 \\\\ -1 & 0 & 4\\end{array}\\right)$$"
   ]
  },
  {
   "cell_type": "markdown",
   "metadata": {},
   "source": [
    "**Решение:**\n",
    "\n",
    "Для нахождения собственных значений и собственных векторов матрицы, нужно сначала найти собственные значения $\\lambda$, решив характеристическое уравнение $\\det(A - \\lambda I) = 0$.\n",
    "\n",
    "\\begin{align}\n",
    "\n",
    "    A - \\lambda I = \n",
    "    \\begin{pmatrix} \n",
    "        4 - \\lambda & 0 & -1 \n",
    "        \\\\ \n",
    "        2 & 2 - \\lambda & 1 \n",
    "        \\\\ \n",
    "        -1 & 0 & 4 - \\lambda \n",
    "    \\end{pmatrix}\n",
    "\n",
    "\\end{align}\n",
    "\n",
    "Найдем определитель:\n",
    "\n",
    "\\begin{align}\n",
    "\n",
    "    \\det(A - \\lambda I) = \n",
    "        \\begin{vmatrix} \n",
    "            4 - \\lambda & 0 & -1 \n",
    "            \\\\ \n",
    "            2 & 2 - \\lambda & 1 \n",
    "            \\\\ -1 & 0 & 4 - \\lambda \n",
    "        \\end{vmatrix} = \n",
    "        \n",
    "    - \\lambda^3 +10\\lambda^2-31\\lambda+30 = \n",
    "    \n",
    "    -(\\lambda-2)(\\lambda^2-8\\lambda+15)=-(\\lambda-2)(\\lambda-3)(\\lambda-5)=0\n",
    "\n",
    "\\end{align}\n",
    "\n",
    "\n",
    "\\begin{align}\n",
    "\n",
    "    \\lambda{_1} = 2,\n",
    "    \\\\\n",
    "    \\lambda{_2} = 3,\n",
    "    \\\\\n",
    "    \\lambda{_3} = 5\n",
    "\n",
    "\\end{align}\n",
    "\n",
    "Подставляем $\\lambda$ и решаем уравнение $(A - \\lambda I) \\cdot \\begin{pmatrix} v \\end{pmatrix} = \\begin{pmatrix} 0 \\end{pmatrix}$\n",
    "\n",
    "\n",
    "**Для $ \\lambda{_1} $**\n",
    "\n",
    "\\begin{align}\n",
    "\n",
    "    \\begin{pmatrix}\n",
    "        2 & 0 & -1 \n",
    "        \\\\\n",
    "        2 & 0 & 1 \n",
    "        \\\\\n",
    "        -1 & 0 & 2\n",
    "    \\end{pmatrix} \n",
    "    \\cdot\n",
    "    \\begin{pmatrix}\n",
    "        x \n",
    "        \\\\\n",
    "        y \n",
    "        \\\\\n",
    "        z\n",
    "    \\end{pmatrix} =\n",
    "    \\begin{pmatrix}\n",
    "        0 \n",
    "        \\\\\n",
    "        0 \n",
    "        \\\\\n",
    "        0\n",
    "    \\end{pmatrix}\n",
    "\n",
    "\\end{align}\n",
    "\n",
    "Чтобы найти значения достаточно рассмотреть систему из двух вервых уравнений:\n",
    "\n",
    "\\begin{align}\n",
    "    \\begin{cases}\n",
    "        2x - z = 0 \n",
    "        \\\\\n",
    "        2x + z = 0\n",
    "    \\end{cases}\n",
    "\\end{align}\n",
    "\n",
    "\\begin{align}\n",
    "    \\begin{pmatrix} v \\end{pmatrix}=\n",
    "    \\begin{pmatrix}\n",
    "    0 \\\\\n",
    "    y \\\\\n",
    "    0\n",
    "    \\end{pmatrix}, \\quad y \\in \\mathbb{R}\n",
    "\\end{align}\n",
    "\n",
    "\n",
    "\n",
    "**Для $ \\lambda{_2} $**\n",
    "\n",
    "\\begin{align}\n",
    "\n",
    "    \\begin{pmatrix}\n",
    "    1 & 0 & -1 \\\\\n",
    "    2 & -1 & 1 \\\\\n",
    "    -1 & 0 & 1\n",
    "    \\end{pmatrix} \\cdot\n",
    "    \\begin{pmatrix}\n",
    "    x \\\\\n",
    "    y \\\\\n",
    "    z\n",
    "    \\end{pmatrix} =\n",
    "    \\begin{pmatrix}\n",
    "    0 \\\\\n",
    "    0 \\\\\n",
    "    0\n",
    "    \\end{pmatrix}\n",
    "\n",
    "\\end{align}\n",
    "\n",
    "\\begin{align}\n",
    "\n",
    "    \\begin{cases}\n",
    "    x - z = 0 \\\\\n",
    "    2x - y + z = 0 \\\\\n",
    "    -x + z = 0\n",
    "    \\end{cases}\n",
    "\n",
    "\\end{align}\n",
    "\n",
    "Т.е. $ z = x, \\quad y = 3x $\n",
    "\n",
    "\\begin{align}\n",
    "    \\begin{pmatrix} v \\end{pmatrix} =\n",
    "    \\begin{pmatrix}\n",
    "    x \\\\\n",
    "    3x \\\\\n",
    "    x\n",
    "    \\end{pmatrix}, \\quad x \\in \\mathbb{R}\n",
    "\\end{align}\n",
    "\n",
    "**Для $ \\lambda{_3} $**\n",
    "\n",
    "\\begin{align}\n",
    "\n",
    "    \\begin{pmatrix}\n",
    "    -1 & 0 & -1 \\\\\n",
    "    2 & -3 & 1 \\\\\n",
    "    -1 & 0 & -1\n",
    "    \\end{pmatrix} \\cdot\n",
    "    \\begin{pmatrix}\n",
    "    x \\\\\n",
    "    y \\\\\n",
    "    z\n",
    "    \\end{pmatrix} =\n",
    "    \\begin{pmatrix}\n",
    "    0 \\\\\n",
    "    0 \\\\\n",
    "    0\n",
    "    \\end{pmatrix}\n",
    "\n",
    "\\end{align}\n",
    "\n",
    "\\begin{align}\n",
    "\n",
    "    \\begin{cases}\n",
    "    -x - z = 0 \\\\\n",
    "    2x - 3y + z = 0 \\\\\n",
    "    -x - z = 0\n",
    "    \\end{cases}\n",
    "\n",
    "\\end{align}\n",
    "\n",
    "Т.е. $ z = -x, \\quad y = \\frac{x}{3} $\n",
    "\n",
    "\\begin{align}\n",
    "    \\begin{pmatrix} v \\end{pmatrix} =\n",
    "    \\begin{pmatrix}\n",
    "    x \\\\\n",
    "    \\frac{x}{3} \\\\\n",
    "    -x\n",
    "    \\end{pmatrix}, \\quad x \\in \\mathbb{R}\n",
    "\\end{align}\n",
    "\n",
    "**Ответ:**\n",
    "\n",
    "\n",
    "\\begin{align*}\n",
    "\n",
    "    \\begin{pmatrix} v \\end{pmatrix}=\n",
    "    \\begin{pmatrix}\n",
    "    0 \\\\\n",
    "    y \\\\\n",
    "    0\n",
    "    \\end{pmatrix} ;\n",
    "\n",
    "\n",
    "\n",
    "    \\begin{pmatrix} v \\end{pmatrix} =\n",
    "    \\begin{pmatrix}\n",
    "    x \\\\\n",
    "    3x \\\\\n",
    "    x\n",
    "    \\end{pmatrix};\n",
    "\n",
    "\n",
    "\n",
    "    \\begin{pmatrix} v \\end{pmatrix} =\n",
    "    \\begin{pmatrix}\n",
    "    x \\\\\n",
    "    \\frac{x}{3} \\\\\n",
    "    -x\n",
    "    \\end{pmatrix}, где \\quad x \\in \\mathbb{R}, \\quad y \\in \\mathbb{R}\n",
    "\n",
    "\\end{align*}\n",
    "\n",
    "\n",
    "\n"
   ]
  },
  {
   "cell_type": "markdown",
   "metadata": {},
   "source": [
    "---"
   ]
  },
  {
   "cell_type": "markdown",
   "metadata": {},
   "source": [
    "### Задание 6"
   ]
  },
  {
   "cell_type": "markdown",
   "metadata": {},
   "source": [
    "Найдите сумму сингулярных чисел для матрицы:\n",
    "\n",
    "$$A=\\left(\\begin{array}{ccc}-2 & 0 & 1 \\\\ 0 & -2 & 1 \\\\ 1 & 1 & -1\\end{array}\\right)$$\n",
    "\n",
    "Найдите решение без использования Python (вручную)."
   ]
  },
  {
   "cell_type": "markdown",
   "metadata": {},
   "source": [
    "**Решение:**\n",
    "\n",
    "Найдём $ A^T A $:\n",
    "\n",
    "\\begin{align}\n",
    "    A^T A =\n",
    "    \\begin{pmatrix}\n",
    "        -2 & 0 & 1 \n",
    "        \\\\\n",
    "        0 & -2 & 1 \n",
    "        \\\\\n",
    "        1 & 1 & -1\n",
    "    \\end{pmatrix}\n",
    "    \\begin{pmatrix}\n",
    "        -2 & 0 & 1 \n",
    "        \\\\\n",
    "        0 & -2 & 1 \n",
    "        \\\\\n",
    "        1 & 1 & -1\n",
    "    \\end{pmatrix} =\n",
    "    \\begin{pmatrix}\n",
    "        5 & 1 & -3 \n",
    "        \\\\\n",
    "        1 & 5 & -3 \n",
    "        \\\\\n",
    "        -3 & -3 & 3\n",
    "    \\end{pmatrix}\n",
    "    \n",
    "\\end{align}\n",
    "\n",
    "Решим $ \\det(A^T A - \\lambda I) = 0 $\n",
    "\n",
    "\n",
    "\\begin{align}\n",
    "\n",
    "    \\begin{pmatrix}\n",
    "        5 - \\lambda & 1 & -3 \\\\\n",
    "        1 & 5 - \\lambda & -3 \\\\\n",
    "        -3 & -3 & 3 - \\lambda\n",
    "    \\end{pmatrix} =\n",
    "\n",
    "    -\\lambda^3 + 13\\lambda^2-36\\lambda=-\\lambda(\\lambda^2-13\\lambda+36) =\n",
    "    -\\lambda(\\lambda-4)(\\lambda-9) = 0\n",
    "\n",
    "\\end{align}\n",
    "\n",
    "\\begin{align}\n",
    "\n",
    "    \\sigma_1 = \\sqrt{0} = 0,\n",
    "    \\\\\n",
    "    \\sigma_2 = \\sqrt{4} = 2,\n",
    "    \\\\\n",
    "    \\sigma_3 = \\sqrt{9} = 3.\n",
    "\n",
    "\\end{align}\n",
    "\n",
    "\n",
    "**Ответ:** $\\sigma_1 + \\sigma_2 + \\sigma_3 = 5.$\n"
   ]
  },
  {
   "cell_type": "markdown",
   "metadata": {},
   "source": [
    "---"
   ]
  },
  {
   "cell_type": "markdown",
   "metadata": {},
   "source": [
    "## Часть 2: Задания, решаемые с помощью Python"
   ]
  },
  {
   "cell_type": "markdown",
   "metadata": {},
   "source": [
    "**Описание переменных:**\n",
    "\n",
    "* season: 1 - весна, 2 - лето, 3 - осень, 4 - зима\n",
    "* yr: 0 - 2011, 1 - 2012\n",
    "* mnth: месяц, от 1 до 12\n",
    "* holiday: 0 - нет праздника, 1 - есть праздник\n",
    "* weekday: день недели, от 0 до 6\n",
    "* workingday: 0 - нерабочий день, 1 - рабочий день\n",
    "* weathersit: оценка благоприятности погоды от 1 (чистый, ясный день) до 4 (ливень, туман)\n",
    "* temp: температура в Цельсиях\n",
    "* atemp: температура по ощущениям в Цельсиях\n",
    "* hum: влажность\n",
    "* windspeed(mph): скорость ветра в милях в час\n",
    "* windspeed(ms): скорость ветра в метрах в секунду\n",
    "* cnt: количество арендованных велосипедов (это целевой признак, его мы будем предсказывать)"
   ]
  },
  {
   "cell_type": "markdown",
   "metadata": {},
   "source": [
    "### Задание 7"
   ]
  },
  {
   "cell_type": "markdown",
   "metadata": {},
   "source": [
    "Загрузите данные. Изучите, есть ли в них пропущенные значения?Распишите решение с помощью кода на языке Python и напишите текстом интерпретацию полученного вывода."
   ]
  },
  {
   "cell_type": "code",
   "execution_count": null,
   "metadata": {},
   "outputs": [],
   "source": [
    "data = pd.read_csv('data/asset-v1_SkillFactory+MIFIML-1sem+2024+type@asset+block@bikes_rent.xls') # это csv хоть файл и эксель\n",
    "data.head()"
   ]
  },
  {
   "cell_type": "code",
   "execution_count": null,
   "metadata": {},
   "outputs": [],
   "source": [
    "data.info()"
   ]
  },
  {
   "cell_type": "code",
   "execution_count": null,
   "metadata": {},
   "outputs": [],
   "source": [
    "data.isna().sum()"
   ]
  },
  {
   "cell_type": "markdown",
   "metadata": {},
   "source": [
    "В данном датасете нет пропущенных значений по всем столбцам"
   ]
  },
  {
   "cell_type": "markdown",
   "metadata": {},
   "source": [
    "---"
   ]
  },
  {
   "cell_type": "markdown",
   "metadata": {},
   "source": [
    "### Задание 8"
   ]
  },
  {
   "cell_type": "markdown",
   "metadata": {},
   "source": [
    "Исследуем данные на наличие линейной зависимости между столбцами. Найдите ранг матрицы данных. Сравните его с количеством столбцов, сделайте вывод. Если линейная зависимость есть - напишите, между какими столбцами и удалите один из них.\n",
    "\n",
    "Распишите решение с помощью кода на языке Python и напишите текстом интерпретацию полученного вывода."
   ]
  },
  {
   "cell_type": "code",
   "execution_count": null,
   "metadata": {},
   "outputs": [],
   "source": [
    "corr = data.corr()\n",
    "corr"
   ]
  },
  {
   "cell_type": "code",
   "execution_count": null,
   "metadata": {},
   "outputs": [],
   "source": [
    "matrix_rank = np.linalg.matrix_rank(corr)\n",
    "num_columns = data.shape[1]\n",
    "print(f'Ранг матрицы: {matrix_rank}')\n",
    "print(f'Количество столбцов: {num_columns}')"
   ]
  },
  {
   "cell_type": "code",
   "execution_count": null,
   "metadata": {},
   "outputs": [],
   "source": [
    "for i in range(len(corr.columns)):\n",
    "    for j in range(i):\n",
    "        if abs(corr.iloc[i,j]) > 0.999:\n",
    "            print(f\"{corr.columns[i]} - {corr.columns[j]}: {corr.iloc[i,j]:.3f}\")"
   ]
  },
  {
   "cell_type": "code",
   "execution_count": 8,
   "metadata": {},
   "outputs": [],
   "source": [
    "del data['windspeed(ms)']"
   ]
  },
  {
   "cell_type": "markdown",
   "metadata": {},
   "source": [
    "**Ответ:** Количество столбцов больше ранга матрицы, что указывает на линейную зависимость. рямая линейная зависимость между `windspeed(ms)`  и `windspeed(mph)` - `1.00`. Удалим `windspeed(ms)`."
   ]
  },
  {
   "cell_type": "markdown",
   "metadata": {},
   "source": [
    "---"
   ]
  },
  {
   "cell_type": "markdown",
   "metadata": {},
   "source": [
    "### Задание 9"
   ]
  },
  {
   "cell_type": "markdown",
   "metadata": {},
   "source": [
    "Выведите корреляционную матрицу оставшихся переменных.\n",
    "\n",
    "* Какая переменная сильнее всего коррелирует с целевой?\n",
    "* Есть ли мультиколлинеарность? Между какими переменными? Если есть корреляция выше 0.9 - оставьте только 1 признак. Объясните выбор\n",
    "\n",
    "Распишите решение с помощью кода на языке Python и напишите текстом интерпретацию полученного вывода."
   ]
  },
  {
   "cell_type": "code",
   "execution_count": null,
   "metadata": {},
   "outputs": [],
   "source": [
    "corr = data.corr()\n",
    "corr"
   ]
  },
  {
   "cell_type": "code",
   "execution_count": null,
   "metadata": {},
   "outputs": [],
   "source": [
    "for i in range(len(corr.columns)):\n",
    "    for j in range(i):\n",
    "        if abs(corr.iloc[i,j]) > 0.9:\n",
    "            print(f\"{corr.columns[i]} - {corr.columns[j]}: {corr.iloc[i,j]:.3f}\")"
   ]
  },
  {
   "cell_type": "markdown",
   "metadata": {},
   "source": [
    "* С целевой переменной смльнее всего коррелирует `atemp`.\n",
    "* Есть мультиколлинеарность между `atemp` и `temp`. Корреляция между ними `0.992`. Удалим `temp` (т.е. ее корреляция с целевой переменной ниже чем у `atemp`)."
   ]
  },
  {
   "cell_type": "code",
   "execution_count": 16,
   "metadata": {},
   "outputs": [],
   "source": [
    "del data['temp']"
   ]
  },
  {
   "cell_type": "markdown",
   "metadata": {},
   "source": [
    "---"
   ]
  },
  {
   "cell_type": "markdown",
   "metadata": {},
   "source": [
    "### Задание 10"
   ]
  },
  {
   "cell_type": "markdown",
   "metadata": {},
   "source": [
    "Разделите данные на предикторы и целевую переменную. Обучите модель с помощью классической линейной регрессии. Линейную регрессию необходимо реализовать без готовых библиотек.\n",
    "\n",
    "Оцените качество модели с помощью хотя бы двух метрик качества.\n",
    "\n",
    "Распишите решение с помощью кода на языке Python и напишите текстом интерпретацию полученного вывода."
   ]
  },
  {
   "cell_type": "code",
   "execution_count": 17,
   "metadata": {},
   "outputs": [],
   "source": [
    "X = data.drop('cnt', axis=1)\n",
    "y = data['cnt']\n",
    "\n",
    "X = np.column_stack((np.ones(X.shape[0]), X))\n",
    "\n",
    "X_train, X_test, y_train, y_test = train_test_split(X, y, test_size=0.2, random_state=44)"
   ]
  },
  {
   "cell_type": "code",
   "execution_count": null,
   "metadata": {},
   "outputs": [],
   "source": [
    "w_hat = np.round(np.linalg.inv(X_train.T@X_train)@X_train.T@y_train, 3)\n",
    "w_hat"
   ]
  },
  {
   "cell_type": "code",
   "execution_count": null,
   "metadata": {},
   "outputs": [],
   "source": [
    "y_pred = X_test@w_hat\n",
    "\n",
    "print('MSE -', round(mean_squared_error(y_test, y_pred), 2))\n",
    "print('MAPE -', round(mean_absolute_percentage_error(y_test, y_pred), 2))"
   ]
  },
  {
   "cell_type": "markdown",
   "metadata": {},
   "source": [
    "**Ответ:**\n",
    "\n",
    "* MSE (705951.73): Высокое значение MSE указывает на наличие значительных отклонений в предсказаниях модели. Это может быть вызвано присутствием выбросов или систематической ошибкой в предсказаниях для определенных диапазонов данных.\n",
    "\n",
    "* MAPE (19%): Средняя процентная ошибка в 19% свидетельствует о том, что модель в целом имеет умеренную точность. Однако для многих практических задач такой уровень ошибки может быть неприемлемым."
   ]
  }
 ],
 "metadata": {
  "kernelspec": {
   "display_name": "base",
   "language": "python",
   "name": "python3"
  },
  "language_info": {
   "codemirror_mode": {
    "name": "ipython",
    "version": 3
   },
   "file_extension": ".py",
   "mimetype": "text/x-python",
   "name": "python",
   "nbconvert_exporter": "python",
   "pygments_lexer": "ipython3",
   "version": "3.12.7"
  }
 },
 "nbformat": 4,
 "nbformat_minor": 2
}
