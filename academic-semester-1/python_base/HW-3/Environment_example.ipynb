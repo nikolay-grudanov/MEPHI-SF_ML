{
  "nbformat": 4,
  "nbformat_minor": 0,
  "metadata": {
    "colab": {
      "provenance": []
    },
    "kernelspec": {
      "name": "python3",
      "display_name": "Python 3"
    },
    "language_info": {
      "name": "python"
    }
  },
  "cells": [
    {
      "cell_type": "code",
      "execution_count": null,
      "metadata": {
        "id": "MXXTuy_o0sjk"
      },
      "outputs": [],
      "source": [
        "!pip install -q -U kaggle_environments"
      ]
    },
    {
      "cell_type": "code",
      "source": [
        "import numpy as np\n",
        "import pandas as pd\n",
        "import random\n",
        "\n",
        "import matplotlib.pyplot as plt\n",
        "import seaborn as sns\n",
        "\n",
        "from kaggle_environments import make, evaluate"
      ],
      "metadata": {
        "id": "yz23vWHD0wcj"
      },
      "execution_count": null,
      "outputs": []
    },
    {
      "cell_type": "markdown",
      "source": [
        "Опишем поведение агента, всегда играющего \"камень\" - это значение 0"
      ],
      "metadata": {
        "id": "0kuo6IOxiRub"
      }
    },
    {
      "cell_type": "code",
      "source": [
        "%%writefile rock_agent.py\n",
        "\n",
        "#Example of the simple agent\n",
        "#0 - rock\n",
        "#1 - paper\n",
        "#2 - scissors\n",
        "def your_agent(observation, configuration):\n",
        "    return 0"
      ],
      "metadata": {
        "id": "bqTqV7B92rJ6"
      },
      "execution_count": null,
      "outputs": []
    },
    {
      "cell_type": "markdown",
      "source": [
        "Попробуем теперь использовать информацию о прошлых действиях противника. Опишем агента, который производит то же самое действие, что и оппонент на прошлом ходу"
      ],
      "metadata": {
        "id": "et1J5hUGigeh"
      }
    },
    {
      "cell_type": "code",
      "source": [
        "%%writefile copy_opponent.py\n",
        "\n",
        "#Example\n",
        "def copy_opponent(observation, configuration):\n",
        "    #in case we have information about opponent last move\n",
        "    if observation.step > 0:\n",
        "        return observation.lastOpponentAction\n",
        "    #initial step\n",
        "    else:\n",
        "        return random.randrange(0, configuration.signs)"
      ],
      "metadata": {
        "id": "7l6Ttw6qi0jk"
      },
      "execution_count": null,
      "outputs": []
    },
    {
      "cell_type": "markdown",
      "source": [
        "Воспользуемся функцией evaluate из библиотеки kaggle_environments с помощью которой запустим наших агентов и проведем эксперимент на заданном количестве игр"
      ],
      "metadata": {
        "id": "ExgIpXUVjbjN"
      }
    },
    {
      "cell_type": "code",
      "source": [
        "evaluate(\n",
        "    \"rps\", #environment to use - no need to change\n",
        "    [\"rock_agent.py\", \"copy_opponent.py\"], #agents to evaluate\n",
        "    configuration={\"episodeSteps\": 100} #number of episodes\n",
        ")"
      ],
      "metadata": {
        "id": "wv6Ip6M004xa"
      },
      "execution_count": null,
      "outputs": []
    },
    {
      "cell_type": "code",
      "source": [
        "evaluate(\n",
        "    \"rps\", #environment to use - no need to change\n",
        "    [\"rock_agent.py\", \"paper\"], #agents to evaluate\n",
        "    configuration={\"episodeSteps\": 100} #number of episodes\n",
        ")"
      ],
      "metadata": {
        "id": "FC6_QWe9k3rr"
      },
      "execution_count": null,
      "outputs": []
    }
  ]
}