{
 "cells": [
  {
   "cell_type": "markdown",
   "metadata": {},
   "source": [
    "# Python для анализа данных"
   ]
  },
  {
   "cell_type": "markdown",
   "metadata": {},
   "source": [
    "## Домашнее задание №1\n",
    "\n",
    "Задание выполнил: Груданов Николай Алексеевич\n",
    "\n",
    "---"
   ]
  },
  {
   "cell_type": "markdown",
   "metadata": {},
   "source": [
    "### Загрузка и первичный анализ данных"
   ]
  },
  {
   "cell_type": "code",
   "execution_count": null,
   "metadata": {},
   "outputs": [],
   "source": [
    "# Установка библиотек если требуются\n",
    "%pip install pandas\n",
    "%pip install ydata-profiling\n",
    "%pip install numpy\n",
    "%pip install matplotlib\n",
    "%pip install seaborn\n"
   ]
  },
  {
   "cell_type": "code",
   "execution_count": 1,
   "metadata": {},
   "outputs": [
    {
     "name": "stdout",
     "output_type": "stream",
     "text": [
      "Pandas: 2.2.2\n",
      "Numpy: 1.26.4\n",
      "Matplotlib: 3.9.2\n",
      "Seaborn: 0.13.2\n"
     ]
    }
   ],
   "source": [
    "# Импорт библиотек\n",
    "import pandas as pd\n",
    "import ydata_profiling as ydp\n",
    "import numpy as np\n",
    "import matplotlib as mp\n",
    "import matplotlib.pyplot as plt\n",
    "import seaborn as sns\n",
    "# Преверяем что все коректно импортировалось и смотрим версии библиотек\n",
    "print('Pandas:', pd.__version__)\n",
    "print('Numpy:', np.__version__)\n",
    "print('Matplotlib:', mp.__version__)\n",
    "print('Seaborn:', sns.__version__)"
   ]
  },
  {
   "cell_type": "code",
   "execution_count": 2,
   "metadata": {},
   "outputs": [],
   "source": [
    "# Загрузка данных\n",
    "train_df = pd.read_csv('train.csv')\n",
    "lectures_df = pd.read_csv('lectures.csv')\n",
    "questions_df = pd.read_csv('questions.csv')"
   ]
  },
  {
   "cell_type": "code",
   "execution_count": 3,
   "metadata": {},
   "outputs": [],
   "source": [
    "# Проведем первичный анализ данных\n",
    "# Так как у нас несколько датафреймов, давайте напишем функцию для анализа первичных данных\n",
    "\n",
    "def df_info(df:pd.DataFrame)-> None:\n",
    "    \"\"\"\n",
    "    Функция df_info выводит информацию о DataFrame.\n",
    "    \"\"\"\n",
    "    print(\"Названия столбцов\")\n",
    "    print(df.columns) \n",
    "    print(\"-----------------------------------------------------------------------------------------\")\n",
    "    print(\"Описание столбцов\")\n",
    "    print(df.info()) \n",
    "    print(\"-----------------------------------------------------------------------------------------\")\n",
    "    print(\"Первые 5 строк\")\n",
    "    print(df.head()) \n",
    "    print(\"-----------------------------------------------------------------------------------------\")\n",
    "    print(\"Последние 5 строк\")\n",
    "    print(df.tail(5)) \n",
    "    print(\"-----------------------------------------------------------------------------------------\")\n",
    "    print(\"Статистические данные\")\n",
    "    # Форматируем результат describe() до двух знаков после запятой\n",
    "    formatted = df.describe().apply(lambda x: x.apply('{:.2f}'.format))\n",
    "    print(formatted)\n",
    "    print(\"-----------------------------------------------------------------------------------------\")\n",
    "    print(\"Проверка на null значений\")\n",
    "    print(df.isnull().sum()) \n",
    "   \n"
   ]
  },
  {
   "cell_type": "code",
   "execution_count": 4,
   "metadata": {},
   "outputs": [
    {
     "name": "stdout",
     "output_type": "stream",
     "text": [
      "Названия столбцов\n",
      "Index(['row_id', 'timestamp', 'user_id', 'content_id', 'content_type_id',\n",
      "       'task_container_id', 'user_answer', 'answered_correctly',\n",
      "       'prior_question_elapsed_time', 'prior_question_had_explanation'],\n",
      "      dtype='object')\n",
      "-----------------------------------------------------------------------------------------\n",
      "Описание столбцов\n",
      "<class 'pandas.core.frame.DataFrame'>\n",
      "RangeIndex: 101230332 entries, 0 to 101230331\n",
      "Data columns (total 10 columns):\n",
      " #   Column                          Dtype  \n",
      "---  ------                          -----  \n",
      " 0   row_id                          int64  \n",
      " 1   timestamp                       int64  \n",
      " 2   user_id                         int64  \n",
      " 3   content_id                      int64  \n",
      " 4   content_type_id                 int64  \n",
      " 5   task_container_id               int64  \n",
      " 6   user_answer                     int64  \n",
      " 7   answered_correctly              int64  \n",
      " 8   prior_question_elapsed_time     float64\n",
      " 9   prior_question_had_explanation  object \n",
      "dtypes: float64(1), int64(8), object(1)\n",
      "memory usage: 7.5+ GB\n",
      "None\n",
      "-----------------------------------------------------------------------------------------\n",
      "Первые 5 строк\n",
      "   row_id  timestamp  user_id  content_id  content_type_id  task_container_id  \\\n",
      "0       0          0      115        5692                0                  1   \n",
      "1       1      56943      115        5716                0                  2   \n",
      "2       2     118363      115         128                0                  0   \n",
      "3       3     131167      115        7860                0                  3   \n",
      "4       4     137965      115        7922                0                  4   \n",
      "\n",
      "   user_answer  answered_correctly  prior_question_elapsed_time  \\\n",
      "0            3                   1                          NaN   \n",
      "1            2                   1                      37000.0   \n",
      "2            0                   1                      55000.0   \n",
      "3            0                   1                      19000.0   \n",
      "4            1                   1                      11000.0   \n",
      "\n",
      "  prior_question_had_explanation  \n",
      "0                            NaN  \n",
      "1                          False  \n",
      "2                          False  \n",
      "3                          False  \n",
      "4                          False  \n",
      "-----------------------------------------------------------------------------------------\n",
      "Последние 5 строк\n",
      "              row_id  timestamp     user_id  content_id  content_type_id  \\\n",
      "101230327  101230327  428564420  2147482888        3586                0   \n",
      "101230328  101230328  428585000  2147482888        6341                0   \n",
      "101230329  101230329  428613475  2147482888        4212                0   \n",
      "101230330  101230330  428649406  2147482888        6343                0   \n",
      "101230331  101230331  428692118  2147482888        7995                0   \n",
      "\n",
      "           task_container_id  user_answer  answered_correctly  \\\n",
      "101230327                 22            0                   1   \n",
      "101230328                 23            3                   1   \n",
      "101230329                 24            3                   1   \n",
      "101230330                 25            1                   0   \n",
      "101230331                 26            3                   1   \n",
      "\n",
      "           prior_question_elapsed_time prior_question_had_explanation  \n",
      "101230327                      18000.0                           True  \n",
      "101230328                      14000.0                           True  \n",
      "101230329                      14000.0                           True  \n",
      "101230330                      22000.0                           True  \n",
      "101230331                      29000.0                           True  \n",
      "-----------------------------------------------------------------------------------------\n",
      "Статистические данные\n",
      "             row_id       timestamp        user_id    content_id  \\\n",
      "count  101230332.00    101230332.00   101230332.00  101230332.00   \n",
      "mean    50615165.50   7703643654.33  1076732424.20       5219.60   \n",
      "std     29222679.86  11592655308.51   619716349.50       3866.36   \n",
      "min            0.00            0.00         115.00          0.00   \n",
      "25%     25307582.75    524343559.00   540811564.00       2063.00   \n",
      "50%     50615165.50   2674233764.50  1071781070.00       5026.00   \n",
      "75%     75922748.25   9924550562.75  1615741676.00       7425.00   \n",
      "max    101230331.00  87425772049.00  2147482888.00      32736.00   \n",
      "\n",
      "      content_type_id task_container_id   user_answer answered_correctly  \\\n",
      "count    101230332.00      101230332.00  101230332.00       101230332.00   \n",
      "mean             0.02            904.06          1.38               0.63   \n",
      "std              0.14           1358.30          1.19               0.52   \n",
      "min              0.00              0.00         -1.00              -1.00   \n",
      "25%              0.00            104.00          0.00               0.00   \n",
      "50%              0.00            382.00          1.00               1.00   \n",
      "75%              0.00           1094.00          3.00               1.00   \n",
      "max              1.00           9999.00          3.00               1.00   \n",
      "\n",
      "      prior_question_elapsed_time  \n",
      "count                 98878794.00  \n",
      "mean                     25423.81  \n",
      "std                      19948.15  \n",
      "min                          0.00  \n",
      "25%                      16000.00  \n",
      "50%                      21000.00  \n",
      "75%                      29666.00  \n",
      "max                     300000.00  \n",
      "-----------------------------------------------------------------------------------------\n",
      "Проверка на null значений\n",
      "row_id                                  0\n",
      "timestamp                               0\n",
      "user_id                                 0\n",
      "content_id                              0\n",
      "content_type_id                         0\n",
      "task_container_id                       0\n",
      "user_answer                             0\n",
      "answered_correctly                      0\n",
      "prior_question_elapsed_time       2351538\n",
      "prior_question_had_explanation     392506\n",
      "dtype: int64\n"
     ]
    }
   ],
   "source": [
    "df_info(train_df)"
   ]
  },
  {
   "cell_type": "code",
   "execution_count": 5,
   "metadata": {},
   "outputs": [
    {
     "name": "stdout",
     "output_type": "stream",
     "text": [
      "Названия столбцов\n",
      "Index(['lecture_id', 'tag', 'part', 'type_of'], dtype='object')\n",
      "-----------------------------------------------------------------------------------------\n",
      "Описание столбцов\n",
      "<class 'pandas.core.frame.DataFrame'>\n",
      "RangeIndex: 418 entries, 0 to 417\n",
      "Data columns (total 4 columns):\n",
      " #   Column      Non-Null Count  Dtype \n",
      "---  ------      --------------  ----- \n",
      " 0   lecture_id  418 non-null    int64 \n",
      " 1   tag         418 non-null    int64 \n",
      " 2   part        418 non-null    int64 \n",
      " 3   type_of     418 non-null    object\n",
      "dtypes: int64(3), object(1)\n",
      "memory usage: 13.2+ KB\n",
      "None\n",
      "-----------------------------------------------------------------------------------------\n",
      "Первые 5 строк\n",
      "   lecture_id  tag  part           type_of\n",
      "0          89  159     5           concept\n",
      "1         100   70     1           concept\n",
      "2         185   45     6           concept\n",
      "3         192   79     5  solving question\n",
      "4         317  156     5  solving question\n",
      "-----------------------------------------------------------------------------------------\n",
      "Последние 5 строк\n",
      "     lecture_id  tag  part           type_of\n",
      "413       32535    8     5  solving question\n",
      "414       32570  113     3  solving question\n",
      "415       32604   24     6           concept\n",
      "416       32625  142     2           concept\n",
      "417       32736   82     3           concept\n",
      "-----------------------------------------------------------------------------------------\n",
      "Статистические данные\n",
      "      lecture_id     tag    part\n",
      "count     418.00  418.00  418.00\n",
      "mean    16983.40   94.48    4.27\n",
      "std      9426.16   53.59    1.87\n",
      "min        89.00    0.00    1.00\n",
      "25%      9026.25   50.25    2.00\n",
      "50%     17161.50   94.50    5.00\n",
      "75%     24906.25  140.00    6.00\n",
      "max     32736.00  187.00    7.00\n",
      "-----------------------------------------------------------------------------------------\n",
      "Проверка на null значений\n",
      "lecture_id    0\n",
      "tag           0\n",
      "part          0\n",
      "type_of       0\n",
      "dtype: int64\n"
     ]
    }
   ],
   "source": [
    "df_info(lectures_df)"
   ]
  },
  {
   "cell_type": "code",
   "execution_count": 4,
   "metadata": {},
   "outputs": [
    {
     "name": "stdout",
     "output_type": "stream",
     "text": [
      "Названия столбцов\n",
      "Index(['question_id', 'bundle_id', 'correct_answer', 'part', 'tags'], dtype='object')\n",
      "-----------------------------------------------------------------------------------------\n",
      "Описание столбцов\n",
      "<class 'pandas.core.frame.DataFrame'>\n",
      "RangeIndex: 13523 entries, 0 to 13522\n",
      "Data columns (total 5 columns):\n",
      " #   Column          Non-Null Count  Dtype \n",
      "---  ------          --------------  ----- \n",
      " 0   question_id     13523 non-null  int64 \n",
      " 1   bundle_id       13523 non-null  int64 \n",
      " 2   correct_answer  13523 non-null  int64 \n",
      " 3   part            13523 non-null  int64 \n",
      " 4   tags            13522 non-null  object\n",
      "dtypes: int64(4), object(1)\n",
      "memory usage: 528.4+ KB\n",
      "None\n",
      "-----------------------------------------------------------------------------------------\n",
      "Первые 5 строк\n",
      "   question_id  bundle_id  correct_answer  part            tags\n",
      "0            0          0               0     1   51 131 162 38\n",
      "1            1          1               1     1       131 36 81\n",
      "2            2          2               0     1  131 101 162 92\n",
      "3            3          3               0     1  131 149 162 29\n",
      "4            4          4               3     1    131 5 162 38\n",
      "-----------------------------------------------------------------------------------------\n",
      "Последние 5 строк\n",
      "       question_id  bundle_id  correct_answer  part tags\n",
      "13518        13518      13518               3     5   14\n",
      "13519        13519      13519               3     5    8\n",
      "13520        13520      13520               2     5   73\n",
      "13521        13521      13521               0     5  125\n",
      "13522        13522      13522               3     5   55\n",
      "-----------------------------------------------------------------------------------------\n",
      "Статистические данные\n",
      "      question_id bundle_id correct_answer      part\n",
      "count    13523.00  13523.00       13523.00  13523.00\n",
      "mean      6761.00   6760.51           1.46      4.26\n",
      "std       3903.90   3903.86           1.15      1.65\n",
      "min          0.00      0.00           0.00      1.00\n",
      "25%       3380.50   3379.50           0.00      3.00\n",
      "50%       6761.00   6761.00           1.00      5.00\n",
      "75%      10141.50  10140.00           3.00      5.00\n",
      "max      13522.00  13522.00           3.00      7.00\n",
      "-----------------------------------------------------------------------------------------\n",
      "Проверка на null значений\n",
      "question_id       0\n",
      "bundle_id         0\n",
      "correct_answer    0\n",
      "part              0\n",
      "tags              1\n",
      "dtype: int64\n"
     ]
    }
   ],
   "source": [
    "df_info(questions_df)"
   ]
  },
  {
   "cell_type": "markdown",
   "metadata": {
    "vscode": {
     "languageId": "html"
    }
   },
   "source": [
    "<div class=\"alert alert-block alert-danger\">\n",
    "    <p>Интерактивный отчет с использоваеним <code>ydata-profiling</code> для датафрейма <code>train_df</code>строится\n",
    "        очень долго.\n",
    "        </br>\n",
    "        Время идет на десятки минут!\n",
    "    <p>\n",
    "</div>"
   ]
  },
  {
   "cell_type": "code",
   "execution_count": 16,
   "metadata": {},
   "outputs": [
    {
     "data": {
      "application/vnd.jupyter.widget-view+json": {
       "model_id": "a1b11b9691584ad0be917fa7f8639f8d",
       "version_major": 2,
       "version_minor": 0
      },
      "text/plain": [
       "Summarize dataset:   0%|          | 0/5 [00:00<?, ?it/s]"
      ]
     },
     "metadata": {},
     "output_type": "display_data"
    },
    {
     "name": "stderr",
     "output_type": "stream",
     "text": [
      "/home/gna/.conda/envs/ml/lib/python3.12/site-packages/matplotlib/image.py:181: UserWarning: Data with more than 2**24 rows cannot be accurately displayed. Downsampling to less than 2**24 rows before displaying. To remove this warning, manually downsample your data.\n",
      "  warnings.warn(msg.format(n='2**24 rows'))\n"
     ]
    },
    {
     "data": {
      "application/vnd.jupyter.widget-view+json": {
       "model_id": "4fc9d42965a94b4d902ad439b8240a60",
       "version_major": 2,
       "version_minor": 0
      },
      "text/plain": [
       "Generate report structure:   0%|          | 0/1 [00:00<?, ?it/s]"
      ]
     },
     "metadata": {},
     "output_type": "display_data"
    },
    {
     "data": {
      "application/vnd.jupyter.widget-view+json": {
       "model_id": "fd955319fd644c608317c9264bc04c15",
       "version_major": 2,
       "version_minor": 0
      },
      "text/plain": [
       "Render HTML:   0%|          | 0/1 [00:00<?, ?it/s]"
      ]
     },
     "metadata": {},
     "output_type": "display_data"
    },
    {
     "data": {
      "application/vnd.jupyter.widget-view+json": {
       "model_id": "1b1b8d6a8f394133a0824c884c855f80",
       "version_major": 2,
       "version_minor": 0
      },
      "text/plain": [
       "Export report to file:   0%|          | 0/1 [00:00<?, ?it/s]"
      ]
     },
     "metadata": {},
     "output_type": "display_data"
    }
   ],
   "source": [
    "# Посмотрим более детальный отчет о данных при помощи ydata_profiling\n",
    "profile_train_df =ydp.ProfileReport(train_df)\n",
    "profile_train_df.to_file('profile_train_df.html')# Сохраняем отчет в html файл"
   ]
  },
  {
   "cell_type": "code",
   "execution_count": 14,
   "metadata": {},
   "outputs": [
    {
     "data": {
      "application/vnd.jupyter.widget-view+json": {
       "model_id": "be94820d37884036a93dcdf76af1df7b",
       "version_major": 2,
       "version_minor": 0
      },
      "text/plain": [
       "Summarize dataset:   0%|          | 0/5 [00:00<?, ?it/s]"
      ]
     },
     "metadata": {},
     "output_type": "display_data"
    },
    {
     "data": {
      "application/vnd.jupyter.widget-view+json": {
       "model_id": "e32ba0c8a8ec4f509223393be467733e",
       "version_major": 2,
       "version_minor": 0
      },
      "text/plain": [
       "Generate report structure:   0%|          | 0/1 [00:00<?, ?it/s]"
      ]
     },
     "metadata": {},
     "output_type": "display_data"
    },
    {
     "data": {
      "application/vnd.jupyter.widget-view+json": {
       "model_id": "5b0e04c558c44e118cba9b045b442bcc",
       "version_major": 2,
       "version_minor": 0
      },
      "text/plain": [
       "Render HTML:   0%|          | 0/1 [00:00<?, ?it/s]"
      ]
     },
     "metadata": {},
     "output_type": "display_data"
    },
    {
     "data": {
      "application/vnd.jupyter.widget-view+json": {
       "model_id": "e7bfdfe994cc4541a1eca6a548b2d924",
       "version_major": 2,
       "version_minor": 0
      },
      "text/plain": [
       "Export report to file:   0%|          | 0/1 [00:00<?, ?it/s]"
      ]
     },
     "metadata": {},
     "output_type": "display_data"
    }
   ],
   "source": [
    "profile_lectures_df =ydp.ProfileReport(lectures_df)\n",
    "profile_lectures_df.to_file('profile_lectures_df.html')# Сохраняем отчет в html файл"
   ]
  },
  {
   "cell_type": "code",
   "execution_count": 15,
   "metadata": {},
   "outputs": [
    {
     "data": {
      "application/vnd.jupyter.widget-view+json": {
       "model_id": "d707485040b04b7583565b9504b5df7a",
       "version_major": 2,
       "version_minor": 0
      },
      "text/plain": [
       "Summarize dataset:   0%|          | 0/5 [00:00<?, ?it/s]"
      ]
     },
     "metadata": {},
     "output_type": "display_data"
    },
    {
     "data": {
      "application/vnd.jupyter.widget-view+json": {
       "model_id": "07ae4df5e6a04f38a8ea3d988007454f",
       "version_major": 2,
       "version_minor": 0
      },
      "text/plain": [
       "Generate report structure:   0%|          | 0/1 [00:00<?, ?it/s]"
      ]
     },
     "metadata": {},
     "output_type": "display_data"
    },
    {
     "data": {
      "application/vnd.jupyter.widget-view+json": {
       "model_id": "6665a9877a0e456f8afa6a88165b821b",
       "version_major": 2,
       "version_minor": 0
      },
      "text/plain": [
       "Render HTML:   0%|          | 0/1 [00:00<?, ?it/s]"
      ]
     },
     "metadata": {},
     "output_type": "display_data"
    },
    {
     "data": {
      "application/vnd.jupyter.widget-view+json": {
       "model_id": "a035cb34924642549e3e455a5bc8dceb",
       "version_major": 2,
       "version_minor": 0
      },
      "text/plain": [
       "Export report to file:   0%|          | 0/1 [00:00<?, ?it/s]"
      ]
     },
     "metadata": {},
     "output_type": "display_data"
    }
   ],
   "source": [
    "profile_questions_df =ydp.ProfileReport(questions_df)\n",
    "profile_questions_df.to_file('profile_questions_df.html')# Сохраняем отчет в html файл"
   ]
  },
  {
   "cell_type": "code",
   "execution_count": null,
   "metadata": {},
   "outputs": [
    {
     "data": {
      "image/png": "[encoded data removed]",
      "text/plain": [
       "<Figure size 640x480 with 2 Axes>"
      ]
     },
     "metadata": {},
     "output_type": "display_data"
    }
   ],
   "source": [
    "# Видим что в датафрейме train_df много пустых занчей в столбцах prior_question_elapsed_time и prior_question_had_explanation\n",
    "# Посмотрим подробнее\n",
    "# Построим тепловую карту пропущенных значений\n",
    "cols_w_none = train_df.columns[8:] #Получаем список столбцов с пропущенными значениями\n",
    "# Создаем матрицу с пропущенными значениями\n",
    "mask = train_df[cols_w_none].isnull()\n",
    "\n",
    "# Создаем график\n",
    "\n",
    "# Указываем цвец для графика\n",
    "colours = ['#000099', '#ffff00'] \n",
    "sns_palette = sns.color_palette(colours)\n",
    "\n",
    "# Построение тепловой карты\n",
    "ax = sns.heatmap(mask, cmap=sns_palette, cbar_kws={\"shrink\": 0.8})\n",
    "\n",
    "# Настройка цветовой шкалы\n",
    "cbar = ax.collections[0].colorbar  # Получаем объект цветовой шкалы\n",
    "cbar.set_ticks([0.5, 1.0])  # Устанавливаем позиции меток\n",
    "cbar.set_ticklabels(['Не пропущенные данные', 'Пропущенные данные'])  # Устанавливаем текст меток\n",
    "\n",
    "# Добавление заголовка\n",
    "plt.title('Количество пропущенных значений для столбцов')\n",
    "\n",
    "# Сохраним график\n",
    "plt.savefig('heatmap_missing_values.png')\n",
    "\n",
    "# Отображение графика\n",
    "plt.show()\n",
    "\n"
   ]
  },
  {
   "cell_type": "code",
   "execution_count": 10,
   "metadata": {},
   "outputs": [
    {
     "name": "stdout",
     "output_type": "stream",
     "text": [
      "prior_question_elapsed_time - 2.32296%\n",
      "prior_question_had_explanation - 0.38774%\n"
     ]
    }
   ],
   "source": [
    "# Построим процент пропущеных значений для наших стобцов с пропусками больлше 0\n",
    "for col in cols_w_none:\n",
    "    pct_missing = np.mean(train_df[col].isnull())\n",
    "    # Выводим больше знаков после запятой, чтобы было нагляднее чем в отчете с ydata-profiling\n",
    "    print(f'{col} - {round(pct_missing*100, 5)}%') "
   ]
  },
  {
   "cell_type": "markdown",
   "metadata": {},
   "source": [
    " ### Выводы по первичному анализу "
   ]
  },
  {
   "cell_type": "markdown",
   "metadata": {},
   "source": [
    "1. Мы видим, что процент пропущенных данных мал\n",
    "    ```\n",
    "    prior_question_elapsed_time - 2.32296%\n",
    "    prior_question_had_explanation - 0.38774%\n",
    "    ```\n",
    "    и ими можно пренебречь и убрать из датафрейма.\n",
    "1. Значения в `prior_question_had_explanation` явялются булевым типом данных и также указывают правильно ли ответил студент на вопрос. Заменять их средним или модой будет не правильно\n",
    "2. На тепловой карте видим что есть пересечения по пропускам у этих двух значений, это еще один повод воспользованием отбрасыванием значений из выборки, а не пытатся заполнить пробелы."
   ]
  },
  {
   "cell_type": "markdown",
   "metadata": {},
   "source": [
    "### Очистка данных и объедение с дополнительными датафреймами"
   ]
  },
  {
   "cell_type": "code",
   "execution_count": null,
   "metadata": {},
   "outputs": [],
   "source": []
  }
 ],
 "metadata": {
  "kernelspec": {
   "display_name": "base",
   "language": "python",
   "name": "python3"
  },
  "language_info": {
   "codemirror_mode": {
    "name": "ipython",
    "version": 3
   },
   "file_extension": ".py",
   "mimetype": "text/x-python",
   "name": "python",
   "nbconvert_exporter": "python",
   "pygments_lexer": "ipython3",
   "version": "3.12.7"
  }
 },
 "nbformat": 4,
 "nbformat_minor": 2
}
